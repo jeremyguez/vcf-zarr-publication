{
 "cells": [
  {
   "cell_type": "code",
   "execution_count": 28,
   "id": "4bd49be1-d0df-43e2-a132-988052c99ef1",
   "metadata": {},
   "outputs": [],
   "source": [
    "import concurrent.futures as cf\n",
    "import zipfile\n",
    "import collections\n",
    "import zarr\n",
    "import numpy as np\n",
    "import matplotlib.pyplot as plt\n",
    "from tqdm.notebook import tqdm\n",
    "import pandas as pd\n",
    "import humanfriendly\n",
    "import os\n",
    "import sys\n",
    "from pathlib import Path\n",
    "\n",
    "ZARR_DIR = \"viridian_data/viridian_mafft_2024-10-14_v1.vcz\"\n",
    "ZIP_FILE = \"viridian_data/viridian_mafft_2024-10-14_v1.vcz.zip\"\n",
    "DATA_WORK_DIR=\"viridian_data/alignments/data\""
   ]
  },
  {
   "cell_type": "code",
   "execution_count": 7,
   "id": "57c71a37-c00b-4546-91df-c0b77e4f609d",
   "metadata": {
    "scrolled": true
   },
   "outputs": [
    {
     "name": "stdout",
     "output_type": "stream",
     "text": [
      "-rw-r--r-- 1 jk jk 391M Jan 29 15:39 viridian_data/viridian_mafft_2024-10-14_v1.vcz.zip\n"
     ]
    }
   ],
   "source": [
    "!ls -lh {ZIP_FILE}"
   ]
  },
  {
   "cell_type": "code",
   "execution_count": 8,
   "id": "3e228f7a-cd6e-4d10-a3ca-cd412a5994d3",
   "metadata": {
    "scrolled": true
   },
   "outputs": [
    {
     "name": "stdout",
     "output_type": "stream",
     "text": [
      "1.2G\tviridian_data/viridian_mafft_2024-10-14_v1.vcz\n"
     ]
    }
   ],
   "source": [
    "!du -sh {ZARR_DIR}"
   ]
  },
  {
   "cell_type": "code",
   "execution_count": 13,
   "id": "8329aad1-e450-422f-a855-70b3722f9dbb",
   "metadata": {
    "scrolled": true
   },
   "outputs": [
    {
     "name": "stdout",
     "output_type": "stream",
     "text": [
      "2.8G\tviridian_data/alignments/data/batch1.extracted/10.fa\n",
      "2.8G\tviridian_data/alignments/data/batch1.extracted/11.fa\n",
      "2.8G\tviridian_data/alignments/data/batch1.extracted/12.fa\n",
      "2.8G\tviridian_data/alignments/data/batch1.extracted/13.fa\n",
      "2.8G\tviridian_data/alignments/data/batch1.extracted/14.fa\n",
      "2.8G\tviridian_data/alignments/data/batch1.extracted/15.fa\n",
      "2.8G\tviridian_data/alignments/data/batch1.extracted/16.fa\n",
      "2.8G\tviridian_data/alignments/data/batch1.extracted/17.fa\n",
      "2.8G\tviridian_data/alignments/data/batch1.extracted/18.fa\n",
      "2.8G\tviridian_data/alignments/data/batch1.extracted/19.fa\n",
      "2.8G\tviridian_data/alignments/data/batch1.extracted/1.fa\n",
      "2.8G\tviridian_data/alignments/data/batch1.extracted/20.fa\n",
      "2.8G\tviridian_data/alignments/data/batch1.extracted/21.fa\n",
      "2.8G\tviridian_data/alignments/data/batch1.extracted/22.fa\n",
      "2.8G\tviridian_data/alignments/data/batch1.extracted/23.fa\n",
      "2.8G\tviridian_data/alignments/data/batch1.extracted/24.fa\n",
      "2.8G\tviridian_data/alignments/data/batch1.extracted/25.fa\n",
      "2.8G\tviridian_data/alignments/data/batch1.extracted/26.fa\n",
      "2.8G\tviridian_data/alignments/data/batch1.extracted/27.fa\n",
      "2.8G\tviridian_data/alignments/data/batch1.extracted/28.fa\n",
      "2.8G\tviridian_data/alignments/data/batch1.extracted/29.fa\n",
      "2.8G\tviridian_data/alignments/data/batch1.extracted/2.fa\n",
      "2.8G\tviridian_data/alignments/data/batch1.extracted/30.fa\n",
      "2.8G\tviridian_data/alignments/data/batch1.extracted/31.fa\n",
      "2.8G\tviridian_data/alignments/data/batch1.extracted/32.fa\n",
      "2.8G\tviridian_data/alignments/data/batch1.extracted/33.fa\n",
      "2.8G\tviridian_data/alignments/data/batch1.extracted/34.fa\n",
      "2.8G\tviridian_data/alignments/data/batch1.extracted/35.fa\n",
      "2.8G\tviridian_data/alignments/data/batch1.extracted/36.fa\n",
      "2.8G\tviridian_data/alignments/data/batch1.extracted/37.fa\n",
      "2.8G\tviridian_data/alignments/data/batch1.extracted/38.fa\n",
      "2.8G\tviridian_data/alignments/data/batch1.extracted/39.fa\n",
      "2.8G\tviridian_data/alignments/data/batch1.extracted/3.fa\n",
      "2.8G\tviridian_data/alignments/data/batch1.extracted/40.fa\n",
      "1.4G\tviridian_data/alignments/data/batch1.extracted/41.fa\n",
      "2.8G\tviridian_data/alignments/data/batch1.extracted/4.fa\n",
      "2.8G\tviridian_data/alignments/data/batch1.extracted/5.fa\n",
      "2.8G\tviridian_data/alignments/data/batch1.extracted/6.fa\n",
      "335M\tviridian_data/alignments/data/batch1.extracted/7.fa\n",
      "2.8G\tviridian_data/alignments/data/batch1.extracted/8.fa\n",
      "2.8G\tviridian_data/alignments/data/batch1.extracted/9.fa\n",
      "2.8G\tviridian_data/alignments/data/batch2.extracted/42.fa\n",
      "1.3G\tviridian_data/alignments/data/batch2.extracted/43.fa\n",
      "2.8G\tviridian_data/alignments/data/batch2.extracted/44.fa\n",
      "2.8G\tviridian_data/alignments/data/batch2.extracted/45.fa\n",
      "2.8G\tviridian_data/alignments/data/batch2.extracted/46.fa\n",
      "1.9G\tviridian_data/alignments/data/batch2.extracted/47.fa\n",
      "330M\tviridian_data/alignments/data/batch2.extracted/48.fa\n",
      "125G\ttotal\n"
     ]
    }
   ],
   "source": [
    "!du -sch {DATA_WORK_DIR}/batch1.extracted/*.fa {DATA_WORK_DIR}/batch2.extracted/*.fa "
   ]
  },
  {
   "cell_type": "code",
   "execution_count": 14,
   "id": "5825dff2-7728-4431-be22-5654b7a0e76b",
   "metadata": {},
   "outputs": [
    {
     "name": "stdout",
     "output_type": "stream",
     "text": [
      "5.3M\tviridian_data/alignments/data/batch1.extracted/10.cons.fa.xz\n",
      "4.9M\tviridian_data/alignments/data/batch1.extracted/11.cons.fa.xz\n",
      "5.4M\tviridian_data/alignments/data/batch1.extracted/12.cons.fa.xz\n",
      "4.9M\tviridian_data/alignments/data/batch1.extracted/13.cons.fa.xz\n",
      "4.3M\tviridian_data/alignments/data/batch1.extracted/14.cons.fa.xz\n",
      "5.0M\tviridian_data/alignments/data/batch1.extracted/15.cons.fa.xz\n",
      "5.1M\tviridian_data/alignments/data/batch1.extracted/16.cons.fa.xz\n",
      "5.1M\tviridian_data/alignments/data/batch1.extracted/17.cons.fa.xz\n",
      "5.2M\tviridian_data/alignments/data/batch1.extracted/18.cons.fa.xz\n",
      "5.3M\tviridian_data/alignments/data/batch1.extracted/19.cons.fa.xz\n",
      "3.2M\tviridian_data/alignments/data/batch1.extracted/1.cons.fa.xz\n",
      "5.4M\tviridian_data/alignments/data/batch1.extracted/20.cons.fa.xz\n",
      "5.4M\tviridian_data/alignments/data/batch1.extracted/21.cons.fa.xz\n",
      "5.9M\tviridian_data/alignments/data/batch1.extracted/22.cons.fa.xz\n",
      "6.1M\tviridian_data/alignments/data/batch1.extracted/23.cons.fa.xz\n",
      "5.9M\tviridian_data/alignments/data/batch1.extracted/24.cons.fa.xz\n",
      "6.0M\tviridian_data/alignments/data/batch1.extracted/25.cons.fa.xz\n",
      "6.1M\tviridian_data/alignments/data/batch1.extracted/26.cons.fa.xz\n",
      "6.1M\tviridian_data/alignments/data/batch1.extracted/27.cons.fa.xz\n",
      "5.5M\tviridian_data/alignments/data/batch1.extracted/28.cons.fa.xz\n",
      "4.7M\tviridian_data/alignments/data/batch1.extracted/29.cons.fa.xz\n",
      "3.3M\tviridian_data/alignments/data/batch1.extracted/2.cons.fa.xz\n",
      "4.5M\tviridian_data/alignments/data/batch1.extracted/30.cons.fa.xz\n",
      "4.5M\tviridian_data/alignments/data/batch1.extracted/31.cons.fa.xz\n",
      "4.7M\tviridian_data/alignments/data/batch1.extracted/32.cons.fa.xz\n",
      "4.9M\tviridian_data/alignments/data/batch1.extracted/33.cons.fa.xz\n",
      "4.7M\tviridian_data/alignments/data/batch1.extracted/34.cons.fa.xz\n",
      "4.3M\tviridian_data/alignments/data/batch1.extracted/35.cons.fa.xz\n",
      "4.0M\tviridian_data/alignments/data/batch1.extracted/36.cons.fa.xz\n",
      "4.3M\tviridian_data/alignments/data/batch1.extracted/37.cons.fa.xz\n",
      "4.9M\tviridian_data/alignments/data/batch1.extracted/38.cons.fa.xz\n",
      "5.6M\tviridian_data/alignments/data/batch1.extracted/39.cons.fa.xz\n",
      "3.8M\tviridian_data/alignments/data/batch1.extracted/3.cons.fa.xz\n",
      "6.1M\tviridian_data/alignments/data/batch1.extracted/40.cons.fa.xz\n",
      "3.0M\tviridian_data/alignments/data/batch1.extracted/41.cons.fa.xz\n",
      "4.0M\tviridian_data/alignments/data/batch1.extracted/4.cons.fa.xz\n",
      "2.7M\tviridian_data/alignments/data/batch1.extracted/5.cons.fa.xz\n",
      "3.2M\tviridian_data/alignments/data/batch1.extracted/6.cons.fa.xz\n",
      "444K\tviridian_data/alignments/data/batch1.extracted/7.cons.fa.xz\n",
      "5.1M\tviridian_data/alignments/data/batch1.extracted/8.cons.fa.xz\n",
      "5.7M\tviridian_data/alignments/data/batch1.extracted/9.cons.fa.xz\n",
      "2.8M\tviridian_data/alignments/data/batch2.extracted/42.cons.fa.xz\n",
      "1.6M\tviridian_data/alignments/data/batch2.extracted/43.cons.fa.xz\n",
      "5.3M\tviridian_data/alignments/data/batch2.extracted/44.cons.fa.xz\n",
      "4.9M\tviridian_data/alignments/data/batch2.extracted/45.cons.fa.xz\n",
      "6.3M\tviridian_data/alignments/data/batch2.extracted/46.cons.fa.xz\n",
      "3.7M\tviridian_data/alignments/data/batch2.extracted/47.cons.fa.xz\n",
      "608K\tviridian_data/alignments/data/batch2.extracted/48.cons.fa.xz\n",
      "218M\ttotal\n"
     ]
    }
   ],
   "source": [
    "!du -sch {DATA_WORK_DIR}/batch1.extracted/*.fa.xz {DATA_WORK_DIR}/batch2.extracted/*.fa.xz"
   ]
  },
  {
   "cell_type": "code",
   "execution_count": 11,
   "id": "efd5fd9f-6d2f-400e-89f8-e5d013343023",
   "metadata": {},
   "outputs": [
    {
     "name": "stdout",
     "output_type": "stream",
     "text": [
      "2.9G\tviridian_data/alignments/data/batch1.aln/10.aln\n",
      "2.9G\tviridian_data/alignments/data/batch1.aln/11.aln\n",
      "2.9G\tviridian_data/alignments/data/batch1.aln/12.aln\n",
      "2.9G\tviridian_data/alignments/data/batch1.aln/13.aln\n",
      "2.9G\tviridian_data/alignments/data/batch1.aln/14.aln\n",
      "2.9G\tviridian_data/alignments/data/batch1.aln/15.aln\n",
      "2.9G\tviridian_data/alignments/data/batch1.aln/16.aln\n",
      "2.9G\tviridian_data/alignments/data/batch1.aln/17.aln\n",
      "2.9G\tviridian_data/alignments/data/batch1.aln/18.aln\n",
      "2.9G\tviridian_data/alignments/data/batch1.aln/19.aln\n",
      "2.9G\tviridian_data/alignments/data/batch1.aln/1.aln\n",
      "2.9G\tviridian_data/alignments/data/batch1.aln/20.aln\n",
      "2.9G\tviridian_data/alignments/data/batch1.aln/21.aln\n",
      "2.9G\tviridian_data/alignments/data/batch1.aln/22.aln\n",
      "2.9G\tviridian_data/alignments/data/batch1.aln/23.aln\n",
      "2.9G\tviridian_data/alignments/data/batch1.aln/24.aln\n",
      "2.9G\tviridian_data/alignments/data/batch1.aln/25.aln\n",
      "2.9G\tviridian_data/alignments/data/batch1.aln/26.aln\n",
      "2.9G\tviridian_data/alignments/data/batch1.aln/27.aln\n",
      "2.9G\tviridian_data/alignments/data/batch1.aln/28.aln\n",
      "2.9G\tviridian_data/alignments/data/batch1.aln/29.aln\n",
      "2.9G\tviridian_data/alignments/data/batch1.aln/2.aln\n",
      "2.9G\tviridian_data/alignments/data/batch1.aln/30.aln\n",
      "2.9G\tviridian_data/alignments/data/batch1.aln/31.aln\n",
      "2.9G\tviridian_data/alignments/data/batch1.aln/32.aln\n",
      "2.9G\tviridian_data/alignments/data/batch1.aln/33.aln\n",
      "2.9G\tviridian_data/alignments/data/batch1.aln/34.aln\n",
      "2.9G\tviridian_data/alignments/data/batch1.aln/35.aln\n",
      "2.9G\tviridian_data/alignments/data/batch1.aln/36.aln\n",
      "2.9G\tviridian_data/alignments/data/batch1.aln/37.aln\n",
      "2.9G\tviridian_data/alignments/data/batch1.aln/38.aln\n",
      "2.9G\tviridian_data/alignments/data/batch1.aln/39.aln\n",
      "2.9G\tviridian_data/alignments/data/batch1.aln/3.aln\n",
      "2.9G\tviridian_data/alignments/data/batch1.aln/40.aln\n",
      "1.4G\tviridian_data/alignments/data/batch1.aln/41.aln\n",
      "2.9G\tviridian_data/alignments/data/batch1.aln/4.aln\n",
      "2.9G\tviridian_data/alignments/data/batch1.aln/5.aln\n",
      "2.9G\tviridian_data/alignments/data/batch1.aln/6.aln\n",
      "343M\tviridian_data/alignments/data/batch1.aln/7.aln\n",
      "2.9G\tviridian_data/alignments/data/batch1.aln/8.aln\n",
      "2.9G\tviridian_data/alignments/data/batch1.aln/9.aln\n",
      "2.9G\tviridian_data/alignments/data/batch2.aln/42.aln\n",
      "1.3G\tviridian_data/alignments/data/batch2.aln/43.aln\n",
      "4.5M\tviridian_data/alignments/data/batch2.aln/44.aln\n",
      "2.9G\tviridian_data/alignments/data/batch2.aln/45.aln\n",
      "2.9G\tviridian_data/alignments/data/batch2.aln/46.aln\n",
      "1.9G\tviridian_data/alignments/data/batch2.aln/47.aln\n",
      "337M\tviridian_data/alignments/data/batch2.aln/48.aln\n",
      "125G\ttotal\n"
     ]
    }
   ],
   "source": [
    "!du -sch {DATA_WORK_DIR}/batch1.aln/*.aln {DATA_WORK_DIR}/batch2.aln/*.aln "
   ]
  },
  {
   "cell_type": "code",
   "execution_count": 12,
   "id": "6669fe09-a8ed-4e6a-9023-594f6780713c",
   "metadata": {
    "scrolled": true
   },
   "outputs": [
    {
     "name": "stdout",
     "output_type": "stream",
     "text": [
      "504M\tviridian_data/alignments/data/batch1.aln/10.aln.bgz\n",
      "503M\tviridian_data/alignments/data/batch1.aln/11.aln.bgz\n",
      "505M\tviridian_data/alignments/data/batch1.aln/12.aln.bgz\n",
      "506M\tviridian_data/alignments/data/batch1.aln/13.aln.bgz\n",
      "502M\tviridian_data/alignments/data/batch1.aln/14.aln.bgz\n",
      "503M\tviridian_data/alignments/data/batch1.aln/15.aln.bgz\n",
      "503M\tviridian_data/alignments/data/batch1.aln/16.aln.bgz\n",
      "503M\tviridian_data/alignments/data/batch1.aln/17.aln.bgz\n",
      "503M\tviridian_data/alignments/data/batch1.aln/18.aln.bgz\n",
      "503M\tviridian_data/alignments/data/batch1.aln/19.aln.bgz\n",
      "502M\tviridian_data/alignments/data/batch1.aln/1.aln.bgz\n",
      "503M\tviridian_data/alignments/data/batch1.aln/20.aln.bgz\n",
      "503M\tviridian_data/alignments/data/batch1.aln/21.aln.bgz\n",
      "504M\tviridian_data/alignments/data/batch1.aln/22.aln.bgz\n",
      "504M\tviridian_data/alignments/data/batch1.aln/23.aln.bgz\n",
      "505M\tviridian_data/alignments/data/batch1.aln/24.aln.bgz\n",
      "505M\tviridian_data/alignments/data/batch1.aln/25.aln.bgz\n",
      "505M\tviridian_data/alignments/data/batch1.aln/26.aln.bgz\n",
      "508M\tviridian_data/alignments/data/batch1.aln/27.aln.bgz\n",
      "507M\tviridian_data/alignments/data/batch1.aln/28.aln.bgz\n",
      "500M\tviridian_data/alignments/data/batch1.aln/29.aln.bgz\n",
      "503M\tviridian_data/alignments/data/batch1.aln/2.aln.bgz\n",
      "497M\tviridian_data/alignments/data/batch1.aln/30.aln.bgz\n",
      "499M\tviridian_data/alignments/data/batch1.aln/31.aln.bgz\n",
      "500M\tviridian_data/alignments/data/batch1.aln/32.aln.bgz\n",
      "501M\tviridian_data/alignments/data/batch1.aln/33.aln.bgz\n",
      "503M\tviridian_data/alignments/data/batch1.aln/34.aln.bgz\n",
      "504M\tviridian_data/alignments/data/batch1.aln/35.aln.bgz\n",
      "502M\tviridian_data/alignments/data/batch1.aln/36.aln.bgz\n",
      "501M\tviridian_data/alignments/data/batch1.aln/37.aln.bgz\n",
      "499M\tviridian_data/alignments/data/batch1.aln/38.aln.bgz\n",
      "501M\tviridian_data/alignments/data/batch1.aln/39.aln.bgz\n",
      "502M\tviridian_data/alignments/data/batch1.aln/3.aln.bgz\n",
      "502M\tviridian_data/alignments/data/batch1.aln/40.aln.bgz\n",
      "247M\tviridian_data/alignments/data/batch1.aln/41.aln.bgz\n",
      "503M\tviridian_data/alignments/data/batch1.aln/4.aln.bgz\n",
      "500M\tviridian_data/alignments/data/batch1.aln/5.aln.bgz\n",
      "501M\tviridian_data/alignments/data/batch1.aln/6.aln.bgz\n",
      "60M\tviridian_data/alignments/data/batch1.aln/7.aln.bgz\n",
      "502M\tviridian_data/alignments/data/batch1.aln/8.aln.bgz\n",
      "506M\tviridian_data/alignments/data/batch1.aln/9.aln.bgz\n",
      "502M\tviridian_data/alignments/data/batch2.aln/42.aln.bgz\n",
      "227M\tviridian_data/alignments/data/batch2.aln/43.aln.bgz\n",
      "788K\tviridian_data/alignments/data/batch2.aln/44.aln.bgz\n",
      "503M\tviridian_data/alignments/data/batch2.aln/45.aln.bgz\n",
      "505M\tviridian_data/alignments/data/batch2.aln/46.aln.bgz\n",
      "337M\tviridian_data/alignments/data/batch2.aln/47.aln.bgz\n",
      "59M\tviridian_data/alignments/data/batch2.aln/48.aln.bgz\n",
      "22G\ttotal\n"
     ]
    }
   ],
   "source": [
    "!du -sch {DATA_WORK_DIR}/batch1.aln/*.aln.bgz {DATA_WORK_DIR}/batch2.aln/*.aln.bgz"
   ]
  },
  {
   "cell_type": "code",
   "execution_count": 15,
   "id": "d9ec1979-28d4-4ae0-9f01-5237273d1bd1",
   "metadata": {},
   "outputs": [
    {
     "name": "stdout",
     "output_type": "stream",
     "text": [
      "-rw-r--r-- 1 jk jk 1.4G Jan 25 21:28 viridian_data/alignments/data/run_metadata.v05.tsv\n",
      "-rw-r--r-- 1 jk jk 122M Jan 25 21:28 viridian_data/alignments/data/run_metadata.v05.tsv.gz\n"
     ]
    }
   ],
   "source": [
    "!ls -lh {DATA_WORK_DIR}/*metadata*"
   ]
  },
  {
   "cell_type": "code",
   "execution_count": 83,
   "id": "2e8bb055-ab85-4d55-9ecf-7b97c8212372",
   "metadata": {},
   "outputs": [
    {
     "data": {
      "text/plain": [
       "80.63708058699928"
      ]
     },
     "execution_count": 83,
     "metadata": {},
     "output_type": "execute_result"
    }
   ],
   "source": [
    "genotypes_bytes = 292946123\n",
    "(22 * 1024**3) / genotypes_bytes"
   ]
  },
  {
   "cell_type": "code",
   "execution_count": 12,
   "id": "62e074fc-bef1-4e5c-821b-52f370e56c3d",
   "metadata": {},
   "outputs": [],
   "source": []
  },
  {
   "cell_type": "markdown",
   "id": "8dd68977-4215-44a9-b6df-574f399a6c0b",
   "metadata": {},
   "source": [
    "# Loading the Zip file directly\n",
    "\n",
    "Because we're working with a Zip file the vcr2zarr code isn't working very well. Get the sizes directly from the zip instead."
   ]
  },
  {
   "cell_type": "code",
   "execution_count": 16,
   "id": "8a152eee-b5cb-4baa-a49c-41a4e3b59888",
   "metadata": {},
   "outputs": [],
   "source": [
    "root = zarr.open(ZIP_FILE, mode=\"r\")\n",
    "z = zipfile.ZipFile(ZIP_FILE)"
   ]
  },
  {
   "cell_type": "code",
   "execution_count": 17,
   "id": "3ab4261a-48ff-48c6-9358-9105ee8c5e87",
   "metadata": {},
   "outputs": [],
   "source": [
    "field_sizes = collections.Counter()\n",
    "\n",
    "for zi in z.infolist():\n",
    "    prefix = zi.filename.split(\"/\")[0]\n",
    "    field_sizes[prefix] += zi.file_size\n",
    "\n",
    "total = sum(field_sizes.values())\n"
   ]
  },
  {
   "cell_type": "code",
   "execution_count": 18,
   "id": "4123415c-8a72-490e-b630-f4d492e7936b",
   "metadata": {},
   "outputs": [
    {
     "data": {
      "text/plain": [
       "'349.07 MiB'"
      ]
     },
     "execution_count": 18,
     "metadata": {},
     "output_type": "execute_result"
    }
   ],
   "source": [
    "humanfriendly.format_size(total, binary=True)"
   ]
  },
  {
   "cell_type": "code",
   "execution_count": 19,
   "id": "6737cb22-db8b-4864-afb7-abee9482709a",
   "metadata": {},
   "outputs": [
    {
     "data": {
      "text/html": [
       "<div>\n",
       "<style scoped>\n",
       "    .dataframe tbody tr th:only-of-type {\n",
       "        vertical-align: middle;\n",
       "    }\n",
       "\n",
       "    .dataframe tbody tr th {\n",
       "        vertical-align: top;\n",
       "    }\n",
       "\n",
       "    .dataframe thead th {\n",
       "        text-align: right;\n",
       "    }\n",
       "</style>\n",
       "<table border=\"1\" class=\"dataframe\">\n",
       "  <thead>\n",
       "    <tr style=\"text-align: right;\">\n",
       "      <th></th>\n",
       "      <th>name</th>\n",
       "      <th>stored</th>\n",
       "      <th>stored_bytes</th>\n",
       "      <th>dtype</th>\n",
       "      <th>ratio</th>\n",
       "      <th>nchunks</th>\n",
       "    </tr>\n",
       "  </thead>\n",
       "  <tbody>\n",
       "    <tr>\n",
       "      <th>0</th>\n",
       "      <td>call_genotype</td>\n",
       "      <td>279.38 MiB</td>\n",
       "      <td>292946123</td>\n",
       "      <td>int8</td>\n",
       "      <td>447.536293</td>\n",
       "      <td>131700</td>\n",
       "    </tr>\n",
       "    <tr>\n",
       "      <th>15</th>\n",
       "      <td>sample_Genbank_tree_name</td>\n",
       "      <td>13.18 MiB</td>\n",
       "      <td>13819642</td>\n",
       "      <td>object</td>\n",
       "      <td>2.538017</td>\n",
       "      <td>439</td>\n",
       "    </tr>\n",
       "    <tr>\n",
       "      <th>11</th>\n",
       "      <td>sample_Genbank_accession</td>\n",
       "      <td>7.31 MiB</td>\n",
       "      <td>7665936</td>\n",
       "      <td>object</td>\n",
       "      <td>4.575368</td>\n",
       "      <td>439</td>\n",
       "    </tr>\n",
       "    <tr>\n",
       "      <th>22</th>\n",
       "      <td>sample_Sample</td>\n",
       "      <td>7.26 MiB</td>\n",
       "      <td>7610927</td>\n",
       "      <td>object</td>\n",
       "      <td>4.608437</td>\n",
       "      <td>439</td>\n",
       "    </tr>\n",
       "    <tr>\n",
       "      <th>8</th>\n",
       "      <td>sample_Experiment</td>\n",
       "      <td>6.9 MiB</td>\n",
       "      <td>7236164</td>\n",
       "      <td>object</td>\n",
       "      <td>4.847110</td>\n",
       "      <td>439</td>\n",
       "    </tr>\n",
       "    <tr>\n",
       "      <th>33</th>\n",
       "      <td>sample_id</td>\n",
       "      <td>6.83 MiB</td>\n",
       "      <td>7156788</td>\n",
       "      <td>object</td>\n",
       "      <td>4.900869</td>\n",
       "      <td>439</td>\n",
       "    </tr>\n",
       "    <tr>\n",
       "      <th>24</th>\n",
       "      <td>sample_Viridian_N</td>\n",
       "      <td>4.32 MiB</td>\n",
       "      <td>4528070</td>\n",
       "      <td>int16</td>\n",
       "      <td>1.936503</td>\n",
       "      <td>439</td>\n",
       "    </tr>\n",
       "    <tr>\n",
       "      <th>29</th>\n",
       "      <td>sample_Viridian_pangolin_1.29</td>\n",
       "      <td>3.98 MiB</td>\n",
       "      <td>4169444</td>\n",
       "      <td>object</td>\n",
       "      <td>8.412268</td>\n",
       "      <td>439</td>\n",
       "    </tr>\n",
       "    <tr>\n",
       "      <th>28</th>\n",
       "      <td>sample_Viridian_pangolin</td>\n",
       "      <td>3.89 MiB</td>\n",
       "      <td>4079042</td>\n",
       "      <td>object</td>\n",
       "      <td>8.598705</td>\n",
       "      <td>439</td>\n",
       "    </tr>\n",
       "    <tr>\n",
       "      <th>13</th>\n",
       "      <td>sample_Genbank_pangolin</td>\n",
       "      <td>2.79 MiB</td>\n",
       "      <td>2921959</td>\n",
       "      <td>object</td>\n",
       "      <td>12.003755</td>\n",
       "      <td>439</td>\n",
       "    </tr>\n",
       "    <tr>\n",
       "      <th>27</th>\n",
       "      <td>sample_Viridian_cons_len</td>\n",
       "      <td>2.74 MiB</td>\n",
       "      <td>2868419</td>\n",
       "      <td>int16</td>\n",
       "      <td>3.056952</td>\n",
       "      <td>439</td>\n",
       "    </tr>\n",
       "    <tr>\n",
       "      <th>10</th>\n",
       "      <td>sample_Genbank_N</td>\n",
       "      <td>2.62 MiB</td>\n",
       "      <td>2745745</td>\n",
       "      <td>int16</td>\n",
       "      <td>3.193530</td>\n",
       "      <td>439</td>\n",
       "    </tr>\n",
       "    <tr>\n",
       "      <th>20</th>\n",
       "      <td>sample_Region</td>\n",
       "      <td>1.34 MiB</td>\n",
       "      <td>1400363</td>\n",
       "      <td>object</td>\n",
       "      <td>25.046706</td>\n",
       "      <td>439</td>\n",
       "    </tr>\n",
       "    <tr>\n",
       "      <th>32</th>\n",
       "      <td>sample_Viridian_scorpio_1.29</td>\n",
       "      <td>1.24 MiB</td>\n",
       "      <td>1302004</td>\n",
       "      <td>object</td>\n",
       "      <td>26.938842</td>\n",
       "      <td>439</td>\n",
       "    </tr>\n",
       "    <tr>\n",
       "      <th>31</th>\n",
       "      <td>sample_Viridian_scorpio</td>\n",
       "      <td>1.24 MiB</td>\n",
       "      <td>1296840</td>\n",
       "      <td>object</td>\n",
       "      <td>27.046112</td>\n",
       "      <td>439</td>\n",
       "    </tr>\n",
       "    <tr>\n",
       "      <th>14</th>\n",
       "      <td>sample_Genbank_scorpio</td>\n",
       "      <td>1.04 MiB</td>\n",
       "      <td>1089588</td>\n",
       "      <td>object</td>\n",
       "      <td>32.190589</td>\n",
       "      <td>439</td>\n",
       "    </tr>\n",
       "    <tr>\n",
       "      <th>26</th>\n",
       "      <td>sample_Viridian_cons_het</td>\n",
       "      <td>762.16 KiB</td>\n",
       "      <td>780449</td>\n",
       "      <td>int8</td>\n",
       "      <td>5.617676</td>\n",
       "      <td>439</td>\n",
       "    </tr>\n",
       "    <tr>\n",
       "      <th>9</th>\n",
       "      <td>sample_First_created</td>\n",
       "      <td>401.85 KiB</td>\n",
       "      <td>411497</td>\n",
       "      <td>object</td>\n",
       "      <td>85.236296</td>\n",
       "      <td>439</td>\n",
       "    </tr>\n",
       "    <tr>\n",
       "      <th>23</th>\n",
       "      <td>sample_Study</td>\n",
       "      <td>315.02 KiB</td>\n",
       "      <td>322579</td>\n",
       "      <td>object</td>\n",
       "      <td>108.731443</td>\n",
       "      <td>439</td>\n",
       "    </tr>\n",
       "    <tr>\n",
       "      <th>25</th>\n",
       "      <td>sample_Viridian_amplicon_scheme</td>\n",
       "      <td>272.41 KiB</td>\n",
       "      <td>278947</td>\n",
       "      <td>object</td>\n",
       "      <td>125.738868</td>\n",
       "      <td>439</td>\n",
       "    </tr>\n",
       "    <tr>\n",
       "      <th>19</th>\n",
       "      <td>sample_Platform</td>\n",
       "      <td>254.1 KiB</td>\n",
       "      <td>260195</td>\n",
       "      <td>object</td>\n",
       "      <td>134.800746</td>\n",
       "      <td>439</td>\n",
       "    </tr>\n",
       "    <tr>\n",
       "      <th>3</th>\n",
       "      <td>sample_Artic_primer_version</td>\n",
       "      <td>219.02 KiB</td>\n",
       "      <td>224280</td>\n",
       "      <td>object</td>\n",
       "      <td>156.387016</td>\n",
       "      <td>439</td>\n",
       "    </tr>\n",
       "    <tr>\n",
       "      <th>5</th>\n",
       "      <td>sample_Country</td>\n",
       "      <td>184.96 KiB</td>\n",
       "      <td>189398</td>\n",
       "      <td>object</td>\n",
       "      <td>185.189284</td>\n",
       "      <td>439</td>\n",
       "    </tr>\n",
       "    <tr>\n",
       "      <th>17</th>\n",
       "      <td>sample_In_intersection</td>\n",
       "      <td>178.49 KiB</td>\n",
       "      <td>182770</td>\n",
       "      <td>bool</td>\n",
       "      <td>23.988127</td>\n",
       "      <td>439</td>\n",
       "    </tr>\n",
       "    <tr>\n",
       "      <th>4</th>\n",
       "      <td>sample_Collection_date</td>\n",
       "      <td>103.74 KiB</td>\n",
       "      <td>106229</td>\n",
       "      <td>object</td>\n",
       "      <td>330.178012</td>\n",
       "      <td>439</td>\n",
       "    </tr>\n",
       "    <tr>\n",
       "      <th>36</th>\n",
       "      <td>variant_position</td>\n",
       "      <td>74.31 KiB</td>\n",
       "      <td>76091</td>\n",
       "      <td>int32</td>\n",
       "      <td>1.571960</td>\n",
       "      <td>300</td>\n",
       "    </tr>\n",
       "    <tr>\n",
       "      <th>6</th>\n",
       "      <td>sample_Date_tree</td>\n",
       "      <td>66.38 KiB</td>\n",
       "      <td>67978</td>\n",
       "      <td>object</td>\n",
       "      <td>515.968107</td>\n",
       "      <td>439</td>\n",
       "    </tr>\n",
       "    <tr>\n",
       "      <th>12</th>\n",
       "      <td>sample_Genbank_other_runs</td>\n",
       "      <td>57.24 KiB</td>\n",
       "      <td>58616</td>\n",
       "      <td>object</td>\n",
       "      <td>598.377235</td>\n",
       "      <td>439</td>\n",
       "    </tr>\n",
       "    <tr>\n",
       "      <th>21</th>\n",
       "      <td>sample_Run_count</td>\n",
       "      <td>36.57 KiB</td>\n",
       "      <td>37450</td>\n",
       "      <td>int8</td>\n",
       "      <td>117.071028</td>\n",
       "      <td>439</td>\n",
       "    </tr>\n",
       "    <tr>\n",
       "      <th>35</th>\n",
       "      <td>variant_contig</td>\n",
       "      <td>34.35 KiB</td>\n",
       "      <td>35174</td>\n",
       "      <td>int8</td>\n",
       "      <td>0.850145</td>\n",
       "      <td>300</td>\n",
       "    </tr>\n",
       "    <tr>\n",
       "      <th>16</th>\n",
       "      <td>sample_In_Viridian_tree</td>\n",
       "      <td>32.17 KiB</td>\n",
       "      <td>32942</td>\n",
       "      <td>bool</td>\n",
       "      <td>133.091798</td>\n",
       "      <td>439</td>\n",
       "    </tr>\n",
       "    <tr>\n",
       "      <th>34</th>\n",
       "      <td>variant_allele</td>\n",
       "      <td>25.95 KiB</td>\n",
       "      <td>26571</td>\n",
       "      <td>object</td>\n",
       "      <td>144.051184</td>\n",
       "      <td>300</td>\n",
       "    </tr>\n",
       "    <tr>\n",
       "      <th>7</th>\n",
       "      <td>sample_Date_tree_order</td>\n",
       "      <td>24.49 KiB</td>\n",
       "      <td>25079</td>\n",
       "      <td>object</td>\n",
       "      <td>1398.559751</td>\n",
       "      <td>439</td>\n",
       "    </tr>\n",
       "    <tr>\n",
       "      <th>30</th>\n",
       "      <td>sample_Viridian_result</td>\n",
       "      <td>24.43 KiB</td>\n",
       "      <td>25016</td>\n",
       "      <td>object</td>\n",
       "      <td>1402.081868</td>\n",
       "      <td>439</td>\n",
       "    </tr>\n",
       "    <tr>\n",
       "      <th>18</th>\n",
       "      <td>sample_In_may_2024_preprint</td>\n",
       "      <td>18.38 KiB</td>\n",
       "      <td>18819</td>\n",
       "      <td>bool</td>\n",
       "      <td>232.972528</td>\n",
       "      <td>439</td>\n",
       "    </tr>\n",
       "    <tr>\n",
       "      <th>1</th>\n",
       "      <td>contig_id</td>\n",
       "      <td>458 bytes</td>\n",
       "      <td>458</td>\n",
       "      <td>object</td>\n",
       "      <td>0.017467</td>\n",
       "      <td>1</td>\n",
       "    </tr>\n",
       "    <tr>\n",
       "      <th>2</th>\n",
       "      <td>contig_length</td>\n",
       "      <td>391 bytes</td>\n",
       "      <td>391</td>\n",
       "      <td>int64</td>\n",
       "      <td>0.020460</td>\n",
       "      <td>1</td>\n",
       "    </tr>\n",
       "  </tbody>\n",
       "</table>\n",
       "</div>"
      ],
      "text/plain": [
       "                               name      stored  stored_bytes   dtype  \\\n",
       "0                     call_genotype  279.38 MiB     292946123    int8   \n",
       "15         sample_Genbank_tree_name   13.18 MiB      13819642  object   \n",
       "11         sample_Genbank_accession    7.31 MiB       7665936  object   \n",
       "22                    sample_Sample    7.26 MiB       7610927  object   \n",
       "8                 sample_Experiment     6.9 MiB       7236164  object   \n",
       "33                        sample_id    6.83 MiB       7156788  object   \n",
       "24                sample_Viridian_N    4.32 MiB       4528070   int16   \n",
       "29    sample_Viridian_pangolin_1.29    3.98 MiB       4169444  object   \n",
       "28         sample_Viridian_pangolin    3.89 MiB       4079042  object   \n",
       "13          sample_Genbank_pangolin    2.79 MiB       2921959  object   \n",
       "27         sample_Viridian_cons_len    2.74 MiB       2868419   int16   \n",
       "10                 sample_Genbank_N    2.62 MiB       2745745   int16   \n",
       "20                    sample_Region    1.34 MiB       1400363  object   \n",
       "32     sample_Viridian_scorpio_1.29    1.24 MiB       1302004  object   \n",
       "31          sample_Viridian_scorpio    1.24 MiB       1296840  object   \n",
       "14           sample_Genbank_scorpio    1.04 MiB       1089588  object   \n",
       "26         sample_Viridian_cons_het  762.16 KiB        780449    int8   \n",
       "9              sample_First_created  401.85 KiB        411497  object   \n",
       "23                     sample_Study  315.02 KiB        322579  object   \n",
       "25  sample_Viridian_amplicon_scheme  272.41 KiB        278947  object   \n",
       "19                  sample_Platform   254.1 KiB        260195  object   \n",
       "3       sample_Artic_primer_version  219.02 KiB        224280  object   \n",
       "5                    sample_Country  184.96 KiB        189398  object   \n",
       "17           sample_In_intersection  178.49 KiB        182770    bool   \n",
       "4            sample_Collection_date  103.74 KiB        106229  object   \n",
       "36                 variant_position   74.31 KiB         76091   int32   \n",
       "6                  sample_Date_tree   66.38 KiB         67978  object   \n",
       "12        sample_Genbank_other_runs   57.24 KiB         58616  object   \n",
       "21                 sample_Run_count   36.57 KiB         37450    int8   \n",
       "35                   variant_contig   34.35 KiB         35174    int8   \n",
       "16          sample_In_Viridian_tree   32.17 KiB         32942    bool   \n",
       "34                   variant_allele   25.95 KiB         26571  object   \n",
       "7            sample_Date_tree_order   24.49 KiB         25079  object   \n",
       "30           sample_Viridian_result   24.43 KiB         25016  object   \n",
       "18      sample_In_may_2024_preprint   18.38 KiB         18819    bool   \n",
       "1                         contig_id   458 bytes           458  object   \n",
       "2                     contig_length   391 bytes           391   int64   \n",
       "\n",
       "          ratio  nchunks  \n",
       "0    447.536293   131700  \n",
       "15     2.538017      439  \n",
       "11     4.575368      439  \n",
       "22     4.608437      439  \n",
       "8      4.847110      439  \n",
       "33     4.900869      439  \n",
       "24     1.936503      439  \n",
       "29     8.412268      439  \n",
       "28     8.598705      439  \n",
       "13    12.003755      439  \n",
       "27     3.056952      439  \n",
       "10     3.193530      439  \n",
       "20    25.046706      439  \n",
       "32    26.938842      439  \n",
       "31    27.046112      439  \n",
       "14    32.190589      439  \n",
       "26     5.617676      439  \n",
       "9     85.236296      439  \n",
       "23   108.731443      439  \n",
       "25   125.738868      439  \n",
       "19   134.800746      439  \n",
       "3    156.387016      439  \n",
       "5    185.189284      439  \n",
       "17    23.988127      439  \n",
       "4    330.178012      439  \n",
       "36     1.571960      300  \n",
       "6    515.968107      439  \n",
       "12   598.377235      439  \n",
       "21   117.071028      439  \n",
       "35     0.850145      300  \n",
       "16   133.091798      439  \n",
       "34   144.051184      300  \n",
       "7   1398.559751      439  \n",
       "30  1402.081868      439  \n",
       "18   232.972528      439  \n",
       "1      0.017467        1  \n",
       "2      0.020460        1  "
      ]
     },
     "execution_count": 19,
     "metadata": {},
     "output_type": "execute_result"
    }
   ],
   "source": [
    "data = []\n",
    "for k, v in field_sizes.items():\n",
    "    if not k.startswith(\".\"):\n",
    "        #print(k)\n",
    "        z = root[k]\n",
    "        data.append({\"name\": k, \"stored\": humanfriendly.format_size(v, binary=True), \n",
    "                     \"stored_bytes\": v, \"dtype\": z.dtype, \"ratio\": z.nbytes / v,\n",
    "                    \"nchunks\": z.nchunks})\n",
    "\n",
    "df_zarr = pd.DataFrame(data).sort_values(\"stored_bytes\",  ascending=False)\n",
    "df_zarr\n"
   ]
  },
  {
   "cell_type": "code",
   "execution_count": 21,
   "id": "5e0a3965-49d3-4cbe-8dfc-24a6d6b44825",
   "metadata": {
    "scrolled": true
   },
   "outputs": [
    {
     "data": {
      "text/plain": [
       "146211"
      ]
     },
     "execution_count": 21,
     "metadata": {},
     "output_type": "execute_result"
    }
   ],
   "source": [
    "df_zarr.nchunks.sum()"
   ]
  },
  {
   "cell_type": "code",
   "execution_count": 23,
   "id": "2b7c7b73-936e-4daa-99f6-f3e45f2ffe09",
   "metadata": {},
   "outputs": [
    {
     "data": {
      "text/html": [
       "<div>\n",
       "<style scoped>\n",
       "    .dataframe tbody tr th:only-of-type {\n",
       "        vertical-align: middle;\n",
       "    }\n",
       "\n",
       "    .dataframe tbody tr th {\n",
       "        vertical-align: top;\n",
       "    }\n",
       "\n",
       "    .dataframe thead th {\n",
       "        text-align: right;\n",
       "    }\n",
       "</style>\n",
       "<table border=\"1\" class=\"dataframe\">\n",
       "  <thead>\n",
       "    <tr style=\"text-align: right;\">\n",
       "      <th></th>\n",
       "      <th>Field</th>\n",
       "      <th>type</th>\n",
       "      <th>storage</th>\n",
       "      <th>compress</th>\n",
       "      <th>percentage</th>\n",
       "    </tr>\n",
       "  </thead>\n",
       "  <tbody>\n",
       "    <tr>\n",
       "      <th>0</th>\n",
       "      <td>call_genotype</td>\n",
       "      <td>int8</td>\n",
       "      <td>279.38 MiB</td>\n",
       "      <td>447.5</td>\n",
       "      <td>80.04%</td>\n",
       "    </tr>\n",
       "    <tr>\n",
       "      <th>15</th>\n",
       "      <td>sample_Genbank_tree_name</td>\n",
       "      <td>object</td>\n",
       "      <td>13.18 MiB</td>\n",
       "      <td>2.5</td>\n",
       "      <td>3.78%</td>\n",
       "    </tr>\n",
       "    <tr>\n",
       "      <th>11</th>\n",
       "      <td>sample_Genbank_accession</td>\n",
       "      <td>object</td>\n",
       "      <td>7.31 MiB</td>\n",
       "      <td>4.6</td>\n",
       "      <td>2.09%</td>\n",
       "    </tr>\n",
       "    <tr>\n",
       "      <th>22</th>\n",
       "      <td>sample_Sample</td>\n",
       "      <td>object</td>\n",
       "      <td>7.26 MiB</td>\n",
       "      <td>4.6</td>\n",
       "      <td>2.08%</td>\n",
       "    </tr>\n",
       "    <tr>\n",
       "      <th>8</th>\n",
       "      <td>sample_Experiment</td>\n",
       "      <td>object</td>\n",
       "      <td>6.9 MiB</td>\n",
       "      <td>4.8</td>\n",
       "      <td>1.98%</td>\n",
       "    </tr>\n",
       "    <tr>\n",
       "      <th>33</th>\n",
       "      <td>sample_id</td>\n",
       "      <td>object</td>\n",
       "      <td>6.83 MiB</td>\n",
       "      <td>4.9</td>\n",
       "      <td>1.96%</td>\n",
       "    </tr>\n",
       "    <tr>\n",
       "      <th>24</th>\n",
       "      <td>sample_Viridian_N</td>\n",
       "      <td>int16</td>\n",
       "      <td>4.32 MiB</td>\n",
       "      <td>1.9</td>\n",
       "      <td>1.24%</td>\n",
       "    </tr>\n",
       "    <tr>\n",
       "      <th>29</th>\n",
       "      <td>sample_Viridian_pangolin_1.29</td>\n",
       "      <td>object</td>\n",
       "      <td>3.98 MiB</td>\n",
       "      <td>8.4</td>\n",
       "      <td>1.14%</td>\n",
       "    </tr>\n",
       "    <tr>\n",
       "      <th>28</th>\n",
       "      <td>sample_Viridian_pangolin</td>\n",
       "      <td>object</td>\n",
       "      <td>3.89 MiB</td>\n",
       "      <td>8.6</td>\n",
       "      <td>1.11%</td>\n",
       "    </tr>\n",
       "  </tbody>\n",
       "</table>\n",
       "</div>"
      ],
      "text/plain": [
       "                            Field    type     storage compress percentage\n",
       "0                   call_genotype    int8  279.38 MiB    447.5     80.04%\n",
       "15       sample_Genbank_tree_name  object   13.18 MiB      2.5      3.78%\n",
       "11       sample_Genbank_accession  object    7.31 MiB      4.6      2.09%\n",
       "22                  sample_Sample  object    7.26 MiB      4.6      2.08%\n",
       "8               sample_Experiment  object     6.9 MiB      4.8      1.98%\n",
       "33                      sample_id  object    6.83 MiB      4.9      1.96%\n",
       "24              sample_Viridian_N   int16    4.32 MiB      1.9      1.24%\n",
       "29  sample_Viridian_pangolin_1.29  object    3.98 MiB      8.4      1.14%\n",
       "28       sample_Viridian_pangolin  object    3.89 MiB      8.6      1.11%"
      ]
     },
     "execution_count": 23,
     "metadata": {},
     "output_type": "execute_result"
    }
   ],
   "source": [
    "df_display_table = pd.DataFrame({\n",
    "    \"Field\":df_zarr.name,\n",
    "    \"type\": df_zarr.dtype,\n",
    "    \"storage\":df_zarr.stored,\n",
    "    \"compress\": df_zarr.ratio,\n",
    "    \"percentage\": df_zarr.stored_bytes / total})\n",
    "threshold = 1 / 100 # 0.01% \n",
    "df_display_table = df_display_table[df_display_table.percentage >= threshold].copy()\n",
    "df_display_table.sort_values(\"percentage\", ascending=False, inplace=True)\n",
    "df_display_table[\"percentage\"] = df_display_table[\"percentage\"].map('{:.2%}'.format)\n",
    "df_display_table[\"compress\"] = df_display_table[\"compress\"].map('{:.1f}'.format)\n",
    "df_display_table"
   ]
  },
  {
   "cell_type": "code",
   "execution_count": 24,
   "id": "0f136c87-5179-4185-9f36-897612711476",
   "metadata": {},
   "outputs": [
    {
     "data": {
      "text/plain": [
       "9"
      ]
     },
     "execution_count": 24,
     "metadata": {},
     "output_type": "execute_result"
    }
   ],
   "source": [
    "df_display_table.shape[0]"
   ]
  },
  {
   "cell_type": "code",
   "execution_count": 25,
   "id": "9611ac48-9187-4de7-876c-42eead26ff28",
   "metadata": {},
   "outputs": [
    {
     "name": "stdout",
     "output_type": "stream",
     "text": [
      "\\begin{tabular}{lllll}\n",
      "\\toprule\n",
      "Field & type & storage & compress & percentage \\\\\n",
      "\\midrule\n",
      "call\\_genotype & int8 & 279.38 MiB & 447.5 & 80.04\\% \\\\\n",
      "sample\\_Genbank\\_tree\\_name & str & 13.18 MiB & 2.5 & 3.78\\% \\\\\n",
      "sample\\_Genbank\\_accession & str & 7.31 MiB & 4.6 & 2.09\\% \\\\\n",
      "sample\\_Sample & str & 7.26 MiB & 4.6 & 2.08\\% \\\\\n",
      "sample\\_Experiment & str & 6.9 MiB & 4.8 & 1.98\\% \\\\\n",
      "sample\\_id & str & 6.83 MiB & 4.9 & 1.96\\% \\\\\n",
      "sample\\_Viridian\\_N & int16 & 4.32 MiB & 1.9 & 1.24\\% \\\\\n",
      "sample\\_Viridian\\_pangolin\\_1.29 & str & 3.98 MiB & 8.4 & 1.14\\% \\\\\n",
      "sample\\_Viridian\\_pangolin & str & 3.89 MiB & 8.6 & 1.11\\% \\\\\n",
      "\\bottomrule\n",
      "\\end{tabular}\n",
      "\n"
     ]
    }
   ],
   "source": [
    "print(df_display_table.to_latex(index=False, escape=True).replace(\"object\", \"str\"))"
   ]
  },
  {
   "cell_type": "markdown",
   "id": "b4dca91b-9020-4bad-a671-83db144f76d4",
   "metadata": {},
   "source": [
    "# Performing calculations\n",
    "\n",
    "## Compute non-ACGT values per sample\n",
    "\n",
    "We want to know how many bases per sample are Ns, gaps or ambiguous. The IUPAC alleles are encoded as ACGT = (0, 1, 2, 3) so we can find anything that's not these by excluding missing values (-1) or anything >= 4.\n",
    "\n",
    "This takes 3 minutes to compute in a single thread. Accessing the haplotype for a single sample in the middle of the matrix required 163 ms and accessing the genotypes for a given site required 163ms."
   ]
  },
  {
   "cell_type": "code",
   "execution_count": 46,
   "id": "3e34a300-52ee-4d97-8db0-ffba7b1d9cd9",
   "metadata": {},
   "outputs": [
    {
     "data": {
      "application/vnd.jupyter.widget-view+json": {
       "model_id": "73a505bff8c94a61a7aac34e3b3b5275",
       "version_major": 2,
       "version_minor": 0
      },
      "text/plain": [
       "  0%|          | 0/439 [00:00<?, ?it/s]"
      ]
     },
     "metadata": {},
     "output_type": "display_data"
    },
    {
     "name": "stdout",
     "output_type": "stream",
     "text": [
      "CPU times: user 5min 8s, sys: 1min 36s, total: 6min 45s\n",
      "Wall time: 54.4 s\n"
     ]
    }
   ],
   "source": [
    "%%time\n",
    "gt_array = root[\"call_genotype\"]\n",
    "# Make a Zarr array with the same chunk size to make indexing by block easy\n",
    "n_chunks = gt_array.cdata_shape[1]\n",
    "missing_count = zarr.zeros(shape=gt_array.shape[1], chunks=gt_array.chunks[1], dtype=int)\n",
    "\n",
    "def compute(s_chunk):\n",
    "    H = gt_array.blocks[:, s_chunk].squeeze(axis=2).T\n",
    "    # ACGT are 0 to 3, everything else is ambiguity.\n",
    "    return np.sum((H < 0) | (H >= 4), axis=1) \n",
    "\n",
    "with cf.ThreadPoolExecutor(8) as exec:\n",
    "    futures = {exec.submit(compute, s_chunk): s_chunk for s_chunk in range(n_chunks)}\n",
    "    for future in tqdm(cf.as_completed(futures), total=n_chunks):\n",
    "        s_chunk = futures[future]\n",
    "        missing_count.blocks[s_chunk] = future.result()\n"
   ]
  },
  {
   "cell_type": "code",
   "execution_count": 39,
   "id": "69f63ea6-ecf8-46f6-a02f-2a611a0a7e01",
   "metadata": {},
   "outputs": [
    {
     "data": {
      "image/png": "[encoded data removed]",
      "text/plain": [
       "<Figure size 640x480 with 1 Axes>"
      ]
     },
     "metadata": {},
     "output_type": "display_data"
    }
   ],
   "source": [
    "plt.hist(missing_count[:]);"
   ]
  },
  {
   "cell_type": "markdown",
   "id": "4fa36d23-93da-437e-9197-4a01d2dec08a",
   "metadata": {},
   "source": [
    "# Computing Allele count at each site\n",
    "\n"
   ]
  },
  {
   "cell_type": "code",
   "execution_count": 45,
   "id": "6340364d-4567-474e-915c-8a8ca171afea",
   "metadata": {},
   "outputs": [
    {
     "data": {
      "application/vnd.jupyter.widget-view+json": {
       "model_id": "d554d0884f21432d946d21ea89125061",
       "version_major": 2,
       "version_minor": 0
      },
      "text/plain": [
       "  0%|          | 0/300 [00:00<?, ?it/s]"
      ]
     },
     "metadata": {},
     "output_type": "display_data"
    },
    {
     "name": "stdout",
     "output_type": "stream",
     "text": [
      "CPU times: user 17min 38s, sys: 7min 57s, total: 25min 35s\n",
      "Wall time: 4min 53s\n"
     ]
    }
   ],
   "source": [
    "%%time\n",
    "m, num_alleles = root[\"variant_allele\"].shape\n",
    "gt_array = root[\"call_genotype\"]\n",
    "allele_count = zarr.zeros(shape=(m, num_alleles + 1), chunks=gt_array.chunks[0], dtype=int)\n",
    "n_chunks = gt_array.cdata_shape[0]\n",
    "\n",
    "def compute(v_chunk):\n",
    "    G = gt_array.blocks[v_chunk].squeeze(axis=2)\n",
    "    A = np.zeros((G.shape[0], allele_count.shape[1]), dtype=int)\n",
    "    # Map missing data to extra allele\n",
    "    G[G == -1] = num_alleles\n",
    "    for j, genotypes in enumerate(G):\n",
    "        A[j] = np.bincount(genotypes, minlength=num_alleles)\n",
    "    return A\n",
    "\n",
    "# We get less parallelism here because function does iterating in Python. Certainly\n",
    "# better ways to do this.\n",
    "\n",
    "with cf.ThreadPoolExecutor(8) as exec:\n",
    "    futures = {exec.submit(compute, v_chunk): v_chunk for v_chunk in range(n_chunks)}\n",
    "    for future in tqdm(cf.as_completed(futures), total=n_chunks):\n",
    "        v_chunk = futures[future]\n",
    "        allele_count.blocks[v_chunk] = future.result()"
   ]
  },
  {
   "cell_type": "code",
   "execution_count": 107,
   "id": "80972894-cc1f-420f-8d95-909043f9d5b7",
   "metadata": {},
   "outputs": [
    {
     "data": {
      "text/plain": [
       "array([[0, 0, 0, ..., 0, 0, 2],\n",
       "       [0, 0, 0, ..., 0, 0, 2],\n",
       "       [0, 0, 0, ..., 0, 0, 2],\n",
       "       ...,\n",
       "       [0, 0, 0, ..., 0, 0, 9],\n",
       "       [0, 0, 0, ..., 0, 0, 9],\n",
       "       [0, 0, 0, ..., 0, 0, 9]])"
      ]
     },
     "execution_count": 107,
     "metadata": {},
     "output_type": "execute_result"
    }
   ],
   "source": [
    "allele_count"
   ]
  },
  {
   "cell_type": "code",
   "execution_count": 81,
   "id": "32c11b1e-2807-47d5-b2a6-df5e5567a4f7",
   "metadata": {
    "scrolled": true
   },
   "outputs": [
    {
     "data": {
      "text/plain": [
       "(29903, 29728)"
      ]
     },
     "execution_count": 81,
     "metadata": {},
     "output_type": "execute_result"
    }
   ],
   "source": [
    "has_missing = 0\n",
    "more_than_one_allele = 0\n",
    "for j in range(allele_count.shape[0]):\n",
    "    has_missing += allele_count[j, -1] != 0\n",
    "    more_than_one_allele += np.sum(allele_count[j, :-1] != 0) > 1\n",
    "has_missing, more_than_one_allele"
   ]
  },
  {
   "cell_type": "code",
   "execution_count": null,
   "id": "53af5164-9f51-4649-970c-0af9ea9d1c67",
   "metadata": {},
   "outputs": [],
   "source": []
  },
  {
   "cell_type": "code",
   "execution_count": 82,
   "id": "53fa275d-219b-451e-9bcd-6c54bc0e2c1b",
   "metadata": {},
   "outputs": [
    {
     "data": {
      "text/plain": [
       "0.9941477443734742"
      ]
     },
     "execution_count": 82,
     "metadata": {},
     "output_type": "execute_result"
    }
   ],
   "source": [
    "29728 / 29903"
   ]
  },
  {
   "cell_type": "markdown",
   "id": "fa766767-0bf3-4298-bac1-47cf7251a9b9",
   "metadata": {},
   "source": [
    "## Get a single sample's haplotype"
   ]
  },
  {
   "cell_type": "code",
   "execution_count": 68,
   "id": "33337e6c-abfb-445c-a5c0-d8dd71bfd0cc",
   "metadata": {},
   "outputs": [
    {
     "name": "stdout",
     "output_type": "stream",
     "text": [
      "CPU times: user 360 ms, sys: 7.72 ms, total: 367 ms\n",
      "Wall time: 365 ms\n"
     ]
    }
   ],
   "source": [
    "%%time\n",
    "k = 1_000_000\n",
    "h = gt_array[:, k].squeeze(axis=1).T"
   ]
  },
  {
   "cell_type": "code",
   "execution_count": 49,
   "id": "34b64291-5e07-4ca9-adb8-c586cd00eb9e",
   "metadata": {
    "scrolled": true
   },
   "outputs": [
    {
     "data": {
      "text/plain": [
       "'SRR15984815'"
      ]
     },
     "execution_count": 49,
     "metadata": {},
     "output_type": "execute_result"
    }
   ],
   "source": [
    "SEQNAME = root[\"sample_id\"][k]\n",
    "SEQNAME"
   ]
  },
  {
   "cell_type": "markdown",
   "id": "419254e8-5e64-422a-b9d5-4f61613844dc",
   "metadata": {},
   "source": [
    "## Get genotypes for a single site\n"
   ]
  },
  {
   "cell_type": "code",
   "execution_count": 119,
   "id": "8f650a05-ae03-49da-b14e-494be123ee73",
   "metadata": {},
   "outputs": [
    {
     "name": "stdout",
     "output_type": "stream",
     "text": [
      "CPU times: user 277 ms, sys: 0 ns, total: 277 ms\n",
      "Wall time: 276 ms\n"
     ]
    }
   ],
   "source": [
    "%%time\n",
    "j = gt_array.shape[0] // 2\n",
    "g = gt_array[j].squeeze(axis=1).T"
   ]
  },
  {
   "cell_type": "markdown",
   "id": "3516571a-38a2-48f3-800f-7d68c115c602",
   "metadata": {},
   "source": [
    "# Fetching single alignment from FASTA\n",
    "\n",
    "The sequence we're looking for is in batch 19:"
   ]
  },
  {
   "cell_type": "code",
   "execution_count": 51,
   "id": "1b6507ce-3106-4dcb-b3b2-e6b5f00e89b6",
   "metadata": {},
   "outputs": [
    {
     "name": "stdout",
     "output_type": "stream",
     "text": [
      "SRR15984815\t19\n"
     ]
    }
   ],
   "source": [
    "!grep {SEQNAME} {DATA_WORK_DIR}/batch1.extracted/index.tsv"
   ]
  },
  {
   "cell_type": "code",
   "execution_count": 56,
   "id": "4c9560b7-bef9-4c1a-aded-7079d7b19a9a",
   "metadata": {},
   "outputs": [
    {
     "data": {
      "text/plain": [
       "'viridian_data/alignments/data/batch1.aln/19.aln'"
      ]
     },
     "execution_count": 56,
     "metadata": {},
     "output_type": "execute_result"
    }
   ],
   "source": [
    "path = f\"{DATA_WORK_DIR}/batch1.aln/19.aln\"\n",
    "path"
   ]
  },
  {
   "cell_type": "code",
   "execution_count": 64,
   "id": "bdf5d04f-63bc-475b-a15d-eebf0a18f779",
   "metadata": {},
   "outputs": [],
   "source": [
    "import pyfaidx\n",
    "\n",
    "reader =  pyfaidx.Fasta(path)"
   ]
  },
  {
   "cell_type": "code",
   "execution_count": 60,
   "id": "b78b6f8c-0192-4048-8b30-b0b3a332252f",
   "metadata": {},
   "outputs": [
    {
     "data": {
      "text/plain": [
       ">SRR15984815:1-100\n",
       "--------------------------------------nnnnnnnnnnnnnnnnagatctgttctctaaacgaactttaaaatctgtgtggctgtcactc"
      ]
     },
     "execution_count": 60,
     "metadata": {},
     "output_type": "execute_result"
    }
   ],
   "source": [
    "reader[SEQNAME][0:100]"
   ]
  },
  {
   "cell_type": "code",
   "execution_count": 67,
   "id": "f869548b-8ec6-4c88-be24-a426b9c898e3",
   "metadata": {},
   "outputs": [
    {
     "name": "stdout",
     "output_type": "stream",
     "text": [
      "CPU times: user 2.01 ms, sys: 0 ns, total: 2.01 ms\n",
      "Wall time: 1.37 ms\n"
     ]
    }
   ],
   "source": [
    "%%time\n",
    "a = reader[SEQNAME][:]"
   ]
  },
  {
   "cell_type": "code",
   "execution_count": 69,
   "id": "aa65231f-c2e4-4b86-bc8b-4bf2874398ed",
   "metadata": {},
   "outputs": [],
   "source": [
    "reader =  pyfaidx.Fasta(path + \".bgz\")"
   ]
  },
  {
   "cell_type": "code",
   "execution_count": 70,
   "id": "96172e5f-9a96-4011-bfcb-1205ddf02208",
   "metadata": {
    "scrolled": true
   },
   "outputs": [
    {
     "data": {
      "text/plain": [
       "Fasta(\"viridian_data/alignments/data/batch1.aln/19.aln.bgz\")"
      ]
     },
     "execution_count": 70,
     "metadata": {},
     "output_type": "execute_result"
    }
   ],
   "source": [
    "reader"
   ]
  },
  {
   "cell_type": "code",
   "execution_count": 73,
   "id": "2df38511-3a22-41ac-ab00-153baebad2b2",
   "metadata": {
    "scrolled": true
   },
   "outputs": [
    {
     "name": "stdout",
     "output_type": "stream",
     "text": [
      "CPU times: user 155 µs, sys: 55 µs, total: 210 µs\n",
      "Wall time: 219 µs\n"
     ]
    }
   ],
   "source": [
    "%%time\n",
    "a = reader[SEQNAME][:]"
   ]
  },
  {
   "cell_type": "markdown",
   "id": "b57bc221-bf9b-488c-8904-5970656ab623",
   "metadata": {},
   "source": [
    "pyfaidx is fast, getting a single sequence from the FASTA quite a lot faster than the Zarr here.\n",
    "\n",
    "## Pysam"
   ]
  },
  {
   "cell_type": "code",
   "execution_count": 75,
   "id": "38873f50-78fa-46b6-a7a6-6893690b9577",
   "metadata": {},
   "outputs": [
    {
     "data": {
      "text/plain": [
       "<pysam.libcfaidx.FastaFile at 0x7f3938d2c9a0>"
      ]
     },
     "execution_count": 75,
     "metadata": {},
     "output_type": "execute_result"
    }
   ],
   "source": [
    "import pysam\n",
    "\n",
    "ff = pysam.FastaFile(path)\n",
    "ff"
   ]
  },
  {
   "cell_type": "code",
   "execution_count": 78,
   "id": "fe869ec3-9158-4765-9fd1-fc859530de9c",
   "metadata": {
    "scrolled": true
   },
   "outputs": [
    {
     "name": "stdout",
     "output_type": "stream",
     "text": [
      "CPU times: user 654 µs, sys: 62 µs, total: 716 µs\n",
      "Wall time: 371 µs\n"
     ]
    }
   ],
   "source": [
    "%%time\n",
    "s = ff.fetch(SEQNAME)"
   ]
  },
  {
   "cell_type": "code",
   "execution_count": 79,
   "id": "736076fc-dbfa-44d5-bdcc-385c0528b017",
   "metadata": {},
   "outputs": [
    {
     "data": {
      "text/plain": [
       "<pysam.libcfaidx.FastaFile at 0x7f39082f2a00>"
      ]
     },
     "execution_count": 79,
     "metadata": {},
     "output_type": "execute_result"
    }
   ],
   "source": [
    "ff = pysam.FastaFile(path + \".bgz\")\n",
    "ff"
   ]
  },
  {
   "cell_type": "code",
   "execution_count": 80,
   "id": "9fdff40d-123e-4c5a-ac3a-5d63b119ca3f",
   "metadata": {},
   "outputs": [
    {
     "name": "stdout",
     "output_type": "stream",
     "text": [
      "CPU times: user 2.37 ms, sys: 0 ns, total: 2.37 ms\n",
      "Wall time: 1.11 ms\n"
     ]
    }
   ],
   "source": [
    "%%time\n",
    "s = ff.fetch(SEQNAME)"
   ]
  }
 ],
 "metadata": {
  "kernelspec": {
   "display_name": "Python 3 (ipykernel)",
   "language": "python",
   "name": "python3"
  },
  "language_info": {
   "codemirror_mode": {
    "name": "ipython",
    "version": 3
   },
   "file_extension": ".py",
   "mimetype": "text/x-python",
   "name": "python",
   "nbconvert_exporter": "python",
   "pygments_lexer": "ipython3",
   "version": "3.9.2"
  }
 },
 "nbformat": 4,
 "nbformat_minor": 5
}
