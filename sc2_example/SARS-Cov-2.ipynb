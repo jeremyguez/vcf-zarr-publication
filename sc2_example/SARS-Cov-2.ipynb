{
 "cells": [
  {
   "cell_type": "code",
   "execution_count": 1,
   "id": "4bd49be1-d0df-43e2-a132-988052c99ef1",
   "metadata": {},
   "outputs": [],
   "source": [
    "import zipfile\n",
    "import collections\n",
    "import zarr\n",
    "import numpy as np\n",
    "import matplotlib.pyplot as plt\n",
    "from tqdm.notebook import tqdm\n",
    "import pandas as pd"
   ]
  },
  {
   "cell_type": "markdown",
   "id": "baab8865-7b5c-49e3-bc92-29b9415cf944",
   "metadata": {},
   "source": [
    "## Top level stats\n",
    "\n",
    "The dataset consists of 3,960,704 sequences of length 29903 base pairs along with 31 metadata columns encoding information about those samples. This full dataset is stored in a single 345MiB zip file, 241MiB of which is used by the alignment data. This gives an average compression ratio of 468X."
   ]
  },
  {
   "cell_type": "code",
   "execution_count": 3,
   "id": "7b68b446-5b55-4073-8855-44163fd65e6e",
   "metadata": {
    "scrolled": true
   },
   "outputs": [
    {
     "data": {
      "application/vnd.jupyter.widget-view+json": {
       "model_id": "9613c714fa884890aa1d14f09ec57b48",
       "version_major": 2,
       "version_minor": 0
      },
      "text/plain": [
       "Tree(nodes=(Node(disabled=True, name='/', nodes=(Node(disabled=True, icon='table', name='call_genotype (29903,…"
      ]
     },
     "execution_count": 3,
     "metadata": {},
     "output_type": "execute_result"
    }
   ],
   "source": [
    "data_path = \"./viridian_2024-04-29.alpha1.zarr.zip\"\n",
    "store = zarr.ZipStore(data_path)\n",
    "root = zarr.open(store, mode=\"r\")\n",
    "root.tree()"
   ]
  },
  {
   "cell_type": "code",
   "execution_count": 5,
   "id": "9324e8e1-b6d8-42ff-a8c7-86b3f3cc18cf",
   "metadata": {
    "scrolled": true
   },
   "outputs": [
    {
     "name": "stdout",
     "output_type": "stream",
     "text": [
      "-rw-r--r-- 1 jk jk 345M Jan 22 15:37 ./viridian_2024-04-29.alpha1.zarr.zip\n"
     ]
    }
   ],
   "source": [
    "! ls -lh ./viridian_2024-04-29.alpha1.zarr.zip"
   ]
  },
  {
   "cell_type": "code",
   "execution_count": 6,
   "id": "6998c34f-8f06-4f54-9606-5a5332dbc52a",
   "metadata": {},
   "outputs": [
    {
     "data": {
      "text/plain": [
       "31"
      ]
     },
     "execution_count": 6,
     "metadata": {},
     "output_type": "execute_result"
    }
   ],
   "source": [
    "num_metadata_cols = len([k for k in root.keys() if k.startswith(\"sample_\")]) - 1\n",
    "num_metadata_cols"
   ]
  },
  {
   "cell_type": "code",
   "execution_count": 7,
   "id": "d8113bd7-cef9-4d2d-a40e-cf9e2e16b921",
   "metadata": {
    "scrolled": true
   },
   "outputs": [
    {
     "data": {
      "text/plain": [
       "(29903, 3960704, 1)"
      ]
     },
     "execution_count": 7,
     "metadata": {},
     "output_type": "execute_result"
    }
   ],
   "source": [
    "root[\"call_genotype\"].shape"
   ]
  },
  {
   "cell_type": "code",
   "execution_count": 8,
   "id": "ab8c114c-ab4d-462f-b0a4-eefd1a66c193",
   "metadata": {},
   "outputs": [
    {
     "data": {
      "text/plain": [
       "(100, 10000, 1)"
      ]
     },
     "execution_count": 8,
     "metadata": {},
     "output_type": "execute_result"
    }
   ],
   "source": [
    "root[\"call_genotype\"].chunks"
   ]
  },
  {
   "cell_type": "markdown",
   "id": "ab82a916-d65c-470e-93f2-7e5d37883d3e",
   "metadata": {},
   "source": [
    "# Plot chunk size over time"
   ]
  },
  {
   "cell_type": "code",
   "execution_count": 14,
   "id": "b41ac6ca-7eda-4340-ba2e-190e2a85e248",
   "metadata": {},
   "outputs": [],
   "source": [
    "z = zipfile.ZipFile(data_path)"
   ]
  },
  {
   "cell_type": "code",
   "execution_count": 15,
   "id": "018d3904-75c7-4569-8bf8-16e36b221361",
   "metadata": {},
   "outputs": [],
   "source": [
    "sample_chunk_sizes = collections.Counter()\n",
    "for zi in z.infolist():\n",
    "    if zi.filename.startswith(\"call_genotype\"):\n",
    "        indexes = list(zi.filename.split(\"/\"))\n",
    "        if len(indexes) == 4 and len(indexes[-1]) > 0:\n",
    "            sample_chunk = int(indexes[2])\n",
    "            sample_chunk_sizes[sample_chunk] += zi.file_size\n"
   ]
  },
  {
   "cell_type": "code",
   "execution_count": 16,
   "id": "424a08a6-93d0-483d-be1a-0e992a82b3c4",
   "metadata": {},
   "outputs": [
    {
     "data": {
      "text/plain": [
       "299030000"
      ]
     },
     "execution_count": 16,
     "metadata": {},
     "output_type": "execute_result"
    }
   ],
   "source": [
    "# Compute uncompressed size of a full sample chunk\n",
    "call_genotype_array = root[\"call_genotype\"]\n",
    "uncompressed_chunk_size = call_genotype_array.blocks[:, 0].nbytes\n",
    "uncompressed_chunk_size"
   ]
  },
  {
   "cell_type": "code",
   "execution_count": 17,
   "id": "2f5a87cd-18cd-4a3d-aa7a-ccc9a51ca18f",
   "metadata": {},
   "outputs": [
    {
     "data": {
      "text/plain": [
       "252887096"
      ]
     },
     "execution_count": 17,
     "metadata": {},
     "output_type": "execute_result"
    }
   ],
   "source": [
    "total_genotypes_bytes = sum(sample_chunk_sizes.values())\n",
    "total_genotypes_bytes"
   ]
  },
  {
   "cell_type": "markdown",
   "id": "8a6dbd40-a9b1-4344-a91b-6a0b9b1905b2",
   "metadata": {},
   "source": [
    "### Overall size\n",
    "\n",
    "Get the overall size of the genotypes from the zip and compression ratio:"
   ]
  },
  {
   "cell_type": "code",
   "execution_count": 18,
   "id": "e2245b95-4bc6-4d4d-beb7-3ca590bf4b34",
   "metadata": {},
   "outputs": [
    {
     "data": {
      "text/plain": [
       "'241.2 MiB'"
      ]
     },
     "execution_count": 18,
     "metadata": {},
     "output_type": "execute_result"
    }
   ],
   "source": [
    "import humanize\n",
    "humanize.naturalsize(total_genotypes_bytes, binary=True)"
   ]
  },
  {
   "cell_type": "code",
   "execution_count": 19,
   "id": "7f1d1258-d721-460f-9dc6-71d8940a0dcf",
   "metadata": {},
   "outputs": [
    {
     "data": {
      "text/plain": [
       "468.3391663131756"
      ]
     },
     "execution_count": 19,
     "metadata": {},
     "output_type": "execute_result"
    }
   ],
   "source": [
    "call_genotype_array.nbytes / total_genotypes_bytes "
   ]
  },
  {
   "cell_type": "code",
   "execution_count": 14,
   "id": "b237b2ea-82de-4af8-94fd-1a81ca249327",
   "metadata": {},
   "outputs": [],
   "source": [
    "# Compute the midpoint date from each sample chunk\n",
    "a = root[\"sample_Collection_date\"]\n",
    "chunk_dates = {}\n",
    "for k in range(4, a.cdata_shape[0]):\n",
    "    c = a.blocks[k].astype(str)\n",
    "    dates = c[np.char.str_len(c) == 10]\n",
    "    dates = dates.astype(\"datetime64[D]\")\n",
    "    chunk_dates[k] = dates[len(dates) // 2]"
   ]
  },
  {
   "cell_type": "code",
   "execution_count": 75,
   "id": "a7b1a1cb-3b09-4001-a2fe-52a5b12b2d13",
   "metadata": {
    "scrolled": true
   },
   "outputs": [
    {
     "data": {
      "text/html": [
       "<div>\n",
       "<style scoped>\n",
       "    .dataframe tbody tr th:only-of-type {\n",
       "        vertical-align: middle;\n",
       "    }\n",
       "\n",
       "    .dataframe tbody tr th {\n",
       "        vertical-align: top;\n",
       "    }\n",
       "\n",
       "    .dataframe thead th {\n",
       "        text-align: right;\n",
       "    }\n",
       "</style>\n",
       "<table border=\"1\" class=\"dataframe\">\n",
       "  <thead>\n",
       "    <tr style=\"text-align: right;\">\n",
       "      <th></th>\n",
       "      <th>date</th>\n",
       "      <th>diversity</th>\n",
       "      <th>size</th>\n",
       "      <th>compression_ratio</th>\n",
       "    </tr>\n",
       "  </thead>\n",
       "  <tbody>\n",
       "    <tr>\n",
       "      <th>0</th>\n",
       "      <td>2020-03-11</td>\n",
       "      <td>0.001733</td>\n",
       "      <td>802770</td>\n",
       "      <td>372.497727</td>\n",
       "    </tr>\n",
       "    <tr>\n",
       "      <th>1</th>\n",
       "      <td>2020-03-24</td>\n",
       "      <td>0.000381</td>\n",
       "      <td>713293</td>\n",
       "      <td>419.224638</td>\n",
       "    </tr>\n",
       "    <tr>\n",
       "      <th>2</th>\n",
       "      <td>2020-04-02</td>\n",
       "      <td>0.000392</td>\n",
       "      <td>686073</td>\n",
       "      <td>435.857409</td>\n",
       "    </tr>\n",
       "    <tr>\n",
       "      <th>3</th>\n",
       "      <td>2020-04-15</td>\n",
       "      <td>0.000419</td>\n",
       "      <td>691695</td>\n",
       "      <td>432.314821</td>\n",
       "    </tr>\n",
       "    <tr>\n",
       "      <th>4</th>\n",
       "      <td>2020-05-02</td>\n",
       "      <td>0.000459</td>\n",
       "      <td>702424</td>\n",
       "      <td>425.711536</td>\n",
       "    </tr>\n",
       "    <tr>\n",
       "      <th>...</th>\n",
       "      <td>...</td>\n",
       "      <td>...</td>\n",
       "      <td>...</td>\n",
       "      <td>...</td>\n",
       "    </tr>\n",
       "    <tr>\n",
       "      <th>388</th>\n",
       "      <td>2022-12-19</td>\n",
       "      <td>0.001334</td>\n",
       "      <td>734649</td>\n",
       "      <td>407.037919</td>\n",
       "    </tr>\n",
       "    <tr>\n",
       "      <th>389</th>\n",
       "      <td>2022-12-30</td>\n",
       "      <td>0.001524</td>\n",
       "      <td>753628</td>\n",
       "      <td>396.787274</td>\n",
       "    </tr>\n",
       "    <tr>\n",
       "      <th>390</th>\n",
       "      <td>2023-01-15</td>\n",
       "      <td>0.001602</td>\n",
       "      <td>779796</td>\n",
       "      <td>383.472088</td>\n",
       "    </tr>\n",
       "    <tr>\n",
       "      <th>391</th>\n",
       "      <td>2023-02-06</td>\n",
       "      <td>0.001565</td>\n",
       "      <td>629517</td>\n",
       "      <td>475.014972</td>\n",
       "    </tr>\n",
       "    <tr>\n",
       "      <th>392</th>\n",
       "      <td>2023-02-17</td>\n",
       "      <td>0.001687</td>\n",
       "      <td>177629</td>\n",
       "      <td>1683.452589</td>\n",
       "    </tr>\n",
       "  </tbody>\n",
       "</table>\n",
       "<p>393 rows × 4 columns</p>\n",
       "</div>"
      ],
      "text/plain": [
       "          date  diversity    size  compression_ratio\n",
       "0   2020-03-11   0.001733  802770         372.497727\n",
       "1   2020-03-24   0.000381  713293         419.224638\n",
       "2   2020-04-02   0.000392  686073         435.857409\n",
       "3   2020-04-15   0.000419  691695         432.314821\n",
       "4   2020-05-02   0.000459  702424         425.711536\n",
       "..         ...        ...     ...                ...\n",
       "388 2022-12-19   0.001334  734649         407.037919\n",
       "389 2022-12-30   0.001524  753628         396.787274\n",
       "390 2023-01-15   0.001602  779796         383.472088\n",
       "391 2023-02-06   0.001565  629517         475.014972\n",
       "392 2023-02-17   0.001687  177629        1683.452589\n",
       "\n",
       "[393 rows x 4 columns]"
      ]
     },
     "execution_count": 75,
     "metadata": {},
     "output_type": "execute_result"
    }
   ],
   "source": [
    "data = []\n",
    "for j, date in chunk_dates.items():\n",
    "    data.append({\n",
    "        \"date\": date,\n",
    "        \"diversity\": chunk_diversity[j],\n",
    "        \"size\": sample_chunk_sizes[j]})\n",
    "\n",
    "df_chunk_size = pd.DataFrame(data)\n",
    "df_chunk_size[\"compression_ratio\"] = uncompressed_chunk_size / df_chunk_size[\"size\"] \n",
    "df_chunk_size"
   ]
  },
  {
   "cell_type": "markdown",
   "id": "c61ce18b-7589-4e9b-beb5-4e6cf6a3a84c",
   "metadata": {},
   "source": [
    "## Compute diversity in chunks\n"
   ]
  },
  {
   "cell_type": "code",
   "execution_count": 46,
   "id": "71199498-d63b-44ed-a96c-b06c5251bbaf",
   "metadata": {},
   "outputs": [],
   "source": [
    "import allel"
   ]
  },
  {
   "cell_type": "code",
   "execution_count": 72,
   "id": "e9e4290a-410f-4297-bd6c-2edb7ff85c29",
   "metadata": {
    "scrolled": true
   },
   "outputs": [
    {
     "data": {
      "application/vnd.jupyter.widget-view+json": {
       "model_id": "49c8177d11494f048c139c75e2e52dae",
       "version_major": 2,
       "version_minor": 0
      },
      "text/plain": [
       "  0%|          | 0/397 [00:00<?, ?it/s]"
      ]
     },
     "metadata": {},
     "output_type": "display_data"
    }
   ],
   "source": [
    "gt_array = root[\"call_genotype\"]\n",
    "# Make a Zarr array with the same chunk size to make indexing by block easy\n",
    "chunk_diversity = np.zeros(shape=gt_array.cdata_shape[1])\n",
    "\n",
    "for s_chunk in tqdm(range(gt_array.cdata_shape[1])): \n",
    "    h = allel.HaplotypeArray(gt_array.blocks[:, s_chunk].squeeze())\n",
    "    ac = h.count_alleles()\n",
    "    pi = allel.mean_pairwise_difference(ac)\n",
    "    chunk_diversity[s_chunk] = np.mean(pi[~np.isnan(pi)])"
   ]
  },
  {
   "cell_type": "markdown",
   "id": "72019e81-5704-40c8-9d43-59ba5defbdf4",
   "metadata": {},
   "source": [
    "## Compute the Scorpio prevalance over time from metadata"
   ]
  },
  {
   "cell_type": "code",
   "execution_count": 23,
   "id": "45c01ffe-8027-4918-96db-c7379d5319fd",
   "metadata": {
    "scrolled": true
   },
   "outputs": [
    {
     "data": {
      "text/html": [
       "<div>\n",
       "<style scoped>\n",
       "    .dataframe tbody tr th:only-of-type {\n",
       "        vertical-align: middle;\n",
       "    }\n",
       "\n",
       "    .dataframe tbody tr th {\n",
       "        vertical-align: top;\n",
       "    }\n",
       "\n",
       "    .dataframe thead th {\n",
       "        text-align: right;\n",
       "    }\n",
       "</style>\n",
       "<table border=\"1\" class=\"dataframe\">\n",
       "  <thead>\n",
       "    <tr style=\"text-align: right;\">\n",
       "      <th></th>\n",
       "      <th>date</th>\n",
       "      <th>scorpio</th>\n",
       "      <th>count</th>\n",
       "    </tr>\n",
       "  </thead>\n",
       "  <tbody>\n",
       "    <tr>\n",
       "      <th>0</th>\n",
       "      <td>.</td>\n",
       "      <td>.</td>\n",
       "      <td>1.0</td>\n",
       "    </tr>\n",
       "    <tr>\n",
       "      <th>1</th>\n",
       "      <td>.</td>\n",
       "      <td>.</td>\n",
       "      <td>1.0</td>\n",
       "    </tr>\n",
       "    <tr>\n",
       "      <th>2</th>\n",
       "      <td>.</td>\n",
       "      <td>Delta (B.1.617.2-like)</td>\n",
       "      <td>1.0</td>\n",
       "    </tr>\n",
       "    <tr>\n",
       "      <th>3</th>\n",
       "      <td>.</td>\n",
       "      <td>Delta (B.1.617.2-like)</td>\n",
       "      <td>1.0</td>\n",
       "    </tr>\n",
       "    <tr>\n",
       "      <th>4</th>\n",
       "      <td>.</td>\n",
       "      <td>Delta (B.1.617.2-like)</td>\n",
       "      <td>1.0</td>\n",
       "    </tr>\n",
       "    <tr>\n",
       "      <th>...</th>\n",
       "      <td>...</td>\n",
       "      <td>...</td>\n",
       "      <td>...</td>\n",
       "    </tr>\n",
       "    <tr>\n",
       "      <th>3960699</th>\n",
       "      <td>not applicable</td>\n",
       "      <td>.</td>\n",
       "      <td>1.0</td>\n",
       "    </tr>\n",
       "    <tr>\n",
       "      <th>3960700</th>\n",
       "      <td>not applicable</td>\n",
       "      <td>.</td>\n",
       "      <td>1.0</td>\n",
       "    </tr>\n",
       "    <tr>\n",
       "      <th>3960701</th>\n",
       "      <td>not applicable</td>\n",
       "      <td>.</td>\n",
       "      <td>1.0</td>\n",
       "    </tr>\n",
       "    <tr>\n",
       "      <th>3960702</th>\n",
       "      <td>not applicable</td>\n",
       "      <td>Omicron (BA.2-like)</td>\n",
       "      <td>1.0</td>\n",
       "    </tr>\n",
       "    <tr>\n",
       "      <th>3960703</th>\n",
       "      <td>not applicable</td>\n",
       "      <td>Omicron (BA.2-like)</td>\n",
       "      <td>1.0</td>\n",
       "    </tr>\n",
       "  </tbody>\n",
       "</table>\n",
       "<p>3960704 rows × 3 columns</p>\n",
       "</div>"
      ],
      "text/plain": [
       "                   date                 scorpio  count\n",
       "0                     .                       .    1.0\n",
       "1                     .                       .    1.0\n",
       "2                     .  Delta (B.1.617.2-like)    1.0\n",
       "3                     .  Delta (B.1.617.2-like)    1.0\n",
       "4                     .  Delta (B.1.617.2-like)    1.0\n",
       "...                 ...                     ...    ...\n",
       "3960699  not applicable                       .    1.0\n",
       "3960700  not applicable                       .    1.0\n",
       "3960701  not applicable                       .    1.0\n",
       "3960702  not applicable     Omicron (BA.2-like)    1.0\n",
       "3960703  not applicable     Omicron (BA.2-like)    1.0\n",
       "\n",
       "[3960704 rows x 3 columns]"
      ]
     },
     "execution_count": 23,
     "metadata": {},
     "output_type": "execute_result"
    }
   ],
   "source": [
    "df_scorpio = pd.DataFrame({\n",
    "    \"date\": root[\"sample_Collection_date\"],\n",
    "    \"scorpio\": root[\"sample_Viridian_scorpio\"],\n",
    "    \"count\": np.ones(root[\"sample_id\"].shape[0])})\n",
    "df_scorpio"
   ]
  },
  {
   "cell_type": "code",
   "execution_count": 24,
   "id": "a14935e2-46d1-4cb1-b6ea-252f4962c8dc",
   "metadata": {},
   "outputs": [],
   "source": [
    "# Subset down to things that have a precise date and convert to datetime\n",
    "df_scorpio = df_scorpio[df_scorpio.date.str.len() == 10].copy()\n",
    "df_scorpio[\"date\"] = np.array(df_scorpio[\"date\"], dtype=\"datetime64[D]\")"
   ]
  },
  {
   "cell_type": "code",
   "execution_count": 26,
   "id": "232059d1-b765-447c-a2b2-87ea0023d2d3",
   "metadata": {
    "scrolled": true
   },
   "outputs": [
    {
     "data": {
      "text/html": [
       "<div>\n",
       "<style scoped>\n",
       "    .dataframe tbody tr th:only-of-type {\n",
       "        vertical-align: middle;\n",
       "    }\n",
       "\n",
       "    .dataframe tbody tr th {\n",
       "        vertical-align: top;\n",
       "    }\n",
       "\n",
       "    .dataframe thead th {\n",
       "        text-align: right;\n",
       "    }\n",
       "</style>\n",
       "<table border=\"1\" class=\"dataframe\">\n",
       "  <thead>\n",
       "    <tr style=\"text-align: right;\">\n",
       "      <th>scorpio</th>\n",
       "      <th>.</th>\n",
       "      <th>A.23.1-like</th>\n",
       "      <th>A.23.1-like+E484K</th>\n",
       "      <th>AV.1-like</th>\n",
       "      <th>Alpha (B.1.1.7-like)</th>\n",
       "      <th>B.1.1.318-like</th>\n",
       "      <th>B.1.1.7-like+E484K</th>\n",
       "      <th>B.1.617.1-like</th>\n",
       "      <th>B.1.617.3-like</th>\n",
       "      <th>Beta (B.1.351-like)</th>\n",
       "      <th>...</th>\n",
       "      <th>Probable Omicron (BA.1-like)</th>\n",
       "      <th>Probable Omicron (BA.2-like)</th>\n",
       "      <th>Probable Omicron (BA.3-like)</th>\n",
       "      <th>Probable Omicron (BA.5-like)</th>\n",
       "      <th>Probable Omicron (Unassigned)</th>\n",
       "      <th>Probable Omicron (XBB-like)</th>\n",
       "      <th>Probable Omicron (XBB.1-like)</th>\n",
       "      <th>Probable Omicron (XBB.1.5-like)</th>\n",
       "      <th>Theta (P.3-like)</th>\n",
       "      <th>Zeta (P.2-like)</th>\n",
       "    </tr>\n",
       "    <tr>\n",
       "      <th>date</th>\n",
       "      <th></th>\n",
       "      <th></th>\n",
       "      <th></th>\n",
       "      <th></th>\n",
       "      <th></th>\n",
       "      <th></th>\n",
       "      <th></th>\n",
       "      <th></th>\n",
       "      <th></th>\n",
       "      <th></th>\n",
       "      <th></th>\n",
       "      <th></th>\n",
       "      <th></th>\n",
       "      <th></th>\n",
       "      <th></th>\n",
       "      <th></th>\n",
       "      <th></th>\n",
       "      <th></th>\n",
       "      <th></th>\n",
       "      <th></th>\n",
       "      <th></th>\n",
       "    </tr>\n",
       "  </thead>\n",
       "  <tbody>\n",
       "    <tr>\n",
       "      <th>1900-01-01</th>\n",
       "      <td>0.0</td>\n",
       "      <td>0.0</td>\n",
       "      <td>0.0</td>\n",
       "      <td>0.0</td>\n",
       "      <td>0.0</td>\n",
       "      <td>0.0</td>\n",
       "      <td>0.0</td>\n",
       "      <td>0.0</td>\n",
       "      <td>0.0</td>\n",
       "      <td>0.0</td>\n",
       "      <td>...</td>\n",
       "      <td>0.0</td>\n",
       "      <td>0.0</td>\n",
       "      <td>0.0</td>\n",
       "      <td>0.0</td>\n",
       "      <td>0.0</td>\n",
       "      <td>0.0</td>\n",
       "      <td>0.0</td>\n",
       "      <td>0.0</td>\n",
       "      <td>0.0</td>\n",
       "      <td>0.0</td>\n",
       "    </tr>\n",
       "    <tr>\n",
       "      <th>1922-05-19</th>\n",
       "      <td>0.0</td>\n",
       "      <td>0.0</td>\n",
       "      <td>0.0</td>\n",
       "      <td>0.0</td>\n",
       "      <td>0.0</td>\n",
       "      <td>0.0</td>\n",
       "      <td>0.0</td>\n",
       "      <td>0.0</td>\n",
       "      <td>0.0</td>\n",
       "      <td>0.0</td>\n",
       "      <td>...</td>\n",
       "      <td>0.0</td>\n",
       "      <td>0.0</td>\n",
       "      <td>0.0</td>\n",
       "      <td>0.0</td>\n",
       "      <td>0.0</td>\n",
       "      <td>0.0</td>\n",
       "      <td>0.0</td>\n",
       "      <td>0.0</td>\n",
       "      <td>0.0</td>\n",
       "      <td>0.0</td>\n",
       "    </tr>\n",
       "    <tr>\n",
       "      <th>1931-08-27</th>\n",
       "      <td>0.0</td>\n",
       "      <td>0.0</td>\n",
       "      <td>0.0</td>\n",
       "      <td>0.0</td>\n",
       "      <td>0.0</td>\n",
       "      <td>0.0</td>\n",
       "      <td>0.0</td>\n",
       "      <td>0.0</td>\n",
       "      <td>0.0</td>\n",
       "      <td>0.0</td>\n",
       "      <td>...</td>\n",
       "      <td>0.0</td>\n",
       "      <td>0.0</td>\n",
       "      <td>0.0</td>\n",
       "      <td>0.0</td>\n",
       "      <td>0.0</td>\n",
       "      <td>0.0</td>\n",
       "      <td>0.0</td>\n",
       "      <td>0.0</td>\n",
       "      <td>0.0</td>\n",
       "      <td>0.0</td>\n",
       "    </tr>\n",
       "    <tr>\n",
       "      <th>2001-07-30</th>\n",
       "      <td>0.0</td>\n",
       "      <td>0.0</td>\n",
       "      <td>0.0</td>\n",
       "      <td>0.0</td>\n",
       "      <td>0.0</td>\n",
       "      <td>0.0</td>\n",
       "      <td>0.0</td>\n",
       "      <td>0.0</td>\n",
       "      <td>0.0</td>\n",
       "      <td>0.0</td>\n",
       "      <td>...</td>\n",
       "      <td>0.0</td>\n",
       "      <td>0.0</td>\n",
       "      <td>0.0</td>\n",
       "      <td>0.0</td>\n",
       "      <td>0.0</td>\n",
       "      <td>0.0</td>\n",
       "      <td>0.0</td>\n",
       "      <td>0.0</td>\n",
       "      <td>0.0</td>\n",
       "      <td>0.0</td>\n",
       "    </tr>\n",
       "    <tr>\n",
       "      <th>2008-08-23</th>\n",
       "      <td>0.0</td>\n",
       "      <td>0.0</td>\n",
       "      <td>0.0</td>\n",
       "      <td>0.0</td>\n",
       "      <td>0.0</td>\n",
       "      <td>0.0</td>\n",
       "      <td>0.0</td>\n",
       "      <td>0.0</td>\n",
       "      <td>0.0</td>\n",
       "      <td>0.0</td>\n",
       "      <td>...</td>\n",
       "      <td>0.0</td>\n",
       "      <td>0.0</td>\n",
       "      <td>0.0</td>\n",
       "      <td>0.0</td>\n",
       "      <td>0.0</td>\n",
       "      <td>0.0</td>\n",
       "      <td>0.0</td>\n",
       "      <td>0.0</td>\n",
       "      <td>0.0</td>\n",
       "      <td>0.0</td>\n",
       "    </tr>\n",
       "    <tr>\n",
       "      <th>...</th>\n",
       "      <td>...</td>\n",
       "      <td>...</td>\n",
       "      <td>...</td>\n",
       "      <td>...</td>\n",
       "      <td>...</td>\n",
       "      <td>...</td>\n",
       "      <td>...</td>\n",
       "      <td>...</td>\n",
       "      <td>...</td>\n",
       "      <td>...</td>\n",
       "      <td>...</td>\n",
       "      <td>...</td>\n",
       "      <td>...</td>\n",
       "      <td>...</td>\n",
       "      <td>...</td>\n",
       "      <td>...</td>\n",
       "      <td>...</td>\n",
       "      <td>...</td>\n",
       "      <td>...</td>\n",
       "      <td>...</td>\n",
       "      <td>...</td>\n",
       "    </tr>\n",
       "    <tr>\n",
       "      <th>2023-02-17</th>\n",
       "      <td>0.0</td>\n",
       "      <td>0.0</td>\n",
       "      <td>0.0</td>\n",
       "      <td>0.0</td>\n",
       "      <td>0.0</td>\n",
       "      <td>0.0</td>\n",
       "      <td>0.0</td>\n",
       "      <td>0.0</td>\n",
       "      <td>0.0</td>\n",
       "      <td>0.0</td>\n",
       "      <td>...</td>\n",
       "      <td>0.0</td>\n",
       "      <td>0.0</td>\n",
       "      <td>0.0</td>\n",
       "      <td>0.0</td>\n",
       "      <td>0.0</td>\n",
       "      <td>0.0</td>\n",
       "      <td>0.0</td>\n",
       "      <td>0.0</td>\n",
       "      <td>0.0</td>\n",
       "      <td>0.0</td>\n",
       "    </tr>\n",
       "    <tr>\n",
       "      <th>2023-02-18</th>\n",
       "      <td>0.0</td>\n",
       "      <td>0.0</td>\n",
       "      <td>0.0</td>\n",
       "      <td>0.0</td>\n",
       "      <td>0.0</td>\n",
       "      <td>0.0</td>\n",
       "      <td>0.0</td>\n",
       "      <td>0.0</td>\n",
       "      <td>0.0</td>\n",
       "      <td>0.0</td>\n",
       "      <td>...</td>\n",
       "      <td>0.0</td>\n",
       "      <td>0.0</td>\n",
       "      <td>0.0</td>\n",
       "      <td>0.0</td>\n",
       "      <td>0.0</td>\n",
       "      <td>0.0</td>\n",
       "      <td>0.0</td>\n",
       "      <td>0.0</td>\n",
       "      <td>0.0</td>\n",
       "      <td>0.0</td>\n",
       "    </tr>\n",
       "    <tr>\n",
       "      <th>2023-02-19</th>\n",
       "      <td>0.0</td>\n",
       "      <td>0.0</td>\n",
       "      <td>0.0</td>\n",
       "      <td>0.0</td>\n",
       "      <td>0.0</td>\n",
       "      <td>0.0</td>\n",
       "      <td>0.0</td>\n",
       "      <td>0.0</td>\n",
       "      <td>0.0</td>\n",
       "      <td>0.0</td>\n",
       "      <td>...</td>\n",
       "      <td>0.0</td>\n",
       "      <td>0.0</td>\n",
       "      <td>0.0</td>\n",
       "      <td>0.0</td>\n",
       "      <td>0.0</td>\n",
       "      <td>0.0</td>\n",
       "      <td>0.0</td>\n",
       "      <td>0.0</td>\n",
       "      <td>0.0</td>\n",
       "      <td>0.0</td>\n",
       "    </tr>\n",
       "    <tr>\n",
       "      <th>2023-02-20</th>\n",
       "      <td>0.0</td>\n",
       "      <td>0.0</td>\n",
       "      <td>0.0</td>\n",
       "      <td>0.0</td>\n",
       "      <td>0.0</td>\n",
       "      <td>0.0</td>\n",
       "      <td>0.0</td>\n",
       "      <td>0.0</td>\n",
       "      <td>0.0</td>\n",
       "      <td>0.0</td>\n",
       "      <td>...</td>\n",
       "      <td>0.0</td>\n",
       "      <td>0.0</td>\n",
       "      <td>0.0</td>\n",
       "      <td>0.0</td>\n",
       "      <td>0.0</td>\n",
       "      <td>0.0</td>\n",
       "      <td>0.0</td>\n",
       "      <td>0.0</td>\n",
       "      <td>0.0</td>\n",
       "      <td>0.0</td>\n",
       "    </tr>\n",
       "    <tr>\n",
       "      <th>2023-02-21</th>\n",
       "      <td>0.0</td>\n",
       "      <td>0.0</td>\n",
       "      <td>0.0</td>\n",
       "      <td>0.0</td>\n",
       "      <td>0.0</td>\n",
       "      <td>0.0</td>\n",
       "      <td>0.0</td>\n",
       "      <td>0.0</td>\n",
       "      <td>0.0</td>\n",
       "      <td>0.0</td>\n",
       "      <td>...</td>\n",
       "      <td>0.0</td>\n",
       "      <td>0.0</td>\n",
       "      <td>0.0</td>\n",
       "      <td>0.0</td>\n",
       "      <td>0.0</td>\n",
       "      <td>0.0</td>\n",
       "      <td>0.0</td>\n",
       "      <td>0.0</td>\n",
       "      <td>0.0</td>\n",
       "      <td>0.0</td>\n",
       "    </tr>\n",
       "  </tbody>\n",
       "</table>\n",
       "<p>1134 rows × 41 columns</p>\n",
       "</div>"
      ],
      "text/plain": [
       "scorpio       .  A.23.1-like  A.23.1-like+E484K  AV.1-like  \\\n",
       "date                                                         \n",
       "1900-01-01  0.0          0.0                0.0        0.0   \n",
       "1922-05-19  0.0          0.0                0.0        0.0   \n",
       "1931-08-27  0.0          0.0                0.0        0.0   \n",
       "2001-07-30  0.0          0.0                0.0        0.0   \n",
       "2008-08-23  0.0          0.0                0.0        0.0   \n",
       "...         ...          ...                ...        ...   \n",
       "2023-02-17  0.0          0.0                0.0        0.0   \n",
       "2023-02-18  0.0          0.0                0.0        0.0   \n",
       "2023-02-19  0.0          0.0                0.0        0.0   \n",
       "2023-02-20  0.0          0.0                0.0        0.0   \n",
       "2023-02-21  0.0          0.0                0.0        0.0   \n",
       "\n",
       "scorpio     Alpha (B.1.1.7-like)  B.1.1.318-like  B.1.1.7-like+E484K  \\\n",
       "date                                                                   \n",
       "1900-01-01                   0.0             0.0                 0.0   \n",
       "1922-05-19                   0.0             0.0                 0.0   \n",
       "1931-08-27                   0.0             0.0                 0.0   \n",
       "2001-07-30                   0.0             0.0                 0.0   \n",
       "2008-08-23                   0.0             0.0                 0.0   \n",
       "...                          ...             ...                 ...   \n",
       "2023-02-17                   0.0             0.0                 0.0   \n",
       "2023-02-18                   0.0             0.0                 0.0   \n",
       "2023-02-19                   0.0             0.0                 0.0   \n",
       "2023-02-20                   0.0             0.0                 0.0   \n",
       "2023-02-21                   0.0             0.0                 0.0   \n",
       "\n",
       "scorpio     B.1.617.1-like  B.1.617.3-like  Beta (B.1.351-like)  ...  \\\n",
       "date                                                             ...   \n",
       "1900-01-01             0.0             0.0                  0.0  ...   \n",
       "1922-05-19             0.0             0.0                  0.0  ...   \n",
       "1931-08-27             0.0             0.0                  0.0  ...   \n",
       "2001-07-30             0.0             0.0                  0.0  ...   \n",
       "2008-08-23             0.0             0.0                  0.0  ...   \n",
       "...                    ...             ...                  ...  ...   \n",
       "2023-02-17             0.0             0.0                  0.0  ...   \n",
       "2023-02-18             0.0             0.0                  0.0  ...   \n",
       "2023-02-19             0.0             0.0                  0.0  ...   \n",
       "2023-02-20             0.0             0.0                  0.0  ...   \n",
       "2023-02-21             0.0             0.0                  0.0  ...   \n",
       "\n",
       "scorpio     Probable Omicron (BA.1-like)  Probable Omicron (BA.2-like)  \\\n",
       "date                                                                     \n",
       "1900-01-01                           0.0                           0.0   \n",
       "1922-05-19                           0.0                           0.0   \n",
       "1931-08-27                           0.0                           0.0   \n",
       "2001-07-30                           0.0                           0.0   \n",
       "2008-08-23                           0.0                           0.0   \n",
       "...                                  ...                           ...   \n",
       "2023-02-17                           0.0                           0.0   \n",
       "2023-02-18                           0.0                           0.0   \n",
       "2023-02-19                           0.0                           0.0   \n",
       "2023-02-20                           0.0                           0.0   \n",
       "2023-02-21                           0.0                           0.0   \n",
       "\n",
       "scorpio     Probable Omicron (BA.3-like)  Probable Omicron (BA.5-like)  \\\n",
       "date                                                                     \n",
       "1900-01-01                           0.0                           0.0   \n",
       "1922-05-19                           0.0                           0.0   \n",
       "1931-08-27                           0.0                           0.0   \n",
       "2001-07-30                           0.0                           0.0   \n",
       "2008-08-23                           0.0                           0.0   \n",
       "...                                  ...                           ...   \n",
       "2023-02-17                           0.0                           0.0   \n",
       "2023-02-18                           0.0                           0.0   \n",
       "2023-02-19                           0.0                           0.0   \n",
       "2023-02-20                           0.0                           0.0   \n",
       "2023-02-21                           0.0                           0.0   \n",
       "\n",
       "scorpio     Probable Omicron (Unassigned)  Probable Omicron (XBB-like)  \\\n",
       "date                                                                     \n",
       "1900-01-01                            0.0                          0.0   \n",
       "1922-05-19                            0.0                          0.0   \n",
       "1931-08-27                            0.0                          0.0   \n",
       "2001-07-30                            0.0                          0.0   \n",
       "2008-08-23                            0.0                          0.0   \n",
       "...                                   ...                          ...   \n",
       "2023-02-17                            0.0                          0.0   \n",
       "2023-02-18                            0.0                          0.0   \n",
       "2023-02-19                            0.0                          0.0   \n",
       "2023-02-20                            0.0                          0.0   \n",
       "2023-02-21                            0.0                          0.0   \n",
       "\n",
       "scorpio     Probable Omicron (XBB.1-like)  Probable Omicron (XBB.1.5-like)  \\\n",
       "date                                                                         \n",
       "1900-01-01                            0.0                              0.0   \n",
       "1922-05-19                            0.0                              0.0   \n",
       "1931-08-27                            0.0                              0.0   \n",
       "2001-07-30                            0.0                              0.0   \n",
       "2008-08-23                            0.0                              0.0   \n",
       "...                                   ...                              ...   \n",
       "2023-02-17                            0.0                              0.0   \n",
       "2023-02-18                            0.0                              0.0   \n",
       "2023-02-19                            0.0                              0.0   \n",
       "2023-02-20                            0.0                              0.0   \n",
       "2023-02-21                            0.0                              0.0   \n",
       "\n",
       "scorpio     Theta (P.3-like)  Zeta (P.2-like)  \n",
       "date                                           \n",
       "1900-01-01               0.0              0.0  \n",
       "1922-05-19               0.0              0.0  \n",
       "1931-08-27               0.0              0.0  \n",
       "2001-07-30               0.0              0.0  \n",
       "2008-08-23               0.0              0.0  \n",
       "...                      ...              ...  \n",
       "2023-02-17               0.0              0.0  \n",
       "2023-02-18               0.0              0.0  \n",
       "2023-02-19               0.0              0.0  \n",
       "2023-02-20               0.0              0.0  \n",
       "2023-02-21               0.0              0.0  \n",
       "\n",
       "[1134 rows x 41 columns]"
      ]
     },
     "execution_count": 26,
     "metadata": {},
     "output_type": "execute_result"
    }
   ],
   "source": [
    "# Pivot so we get counts of Scorpio values per day\n",
    "df_pivot = df_scorpio.pivot_table(\n",
    "    columns=\"scorpio\", index=\"date\", values=\"count\", aggfunc=\"sum\", fill_value=0)\n",
    "df_pivot"
   ]
  },
  {
   "cell_type": "code",
   "execution_count": 27,
   "id": "18fc83c2-3055-4d47-873a-37ecebc44f0d",
   "metadata": {
    "scrolled": true
   },
   "outputs": [
    {
     "data": {
      "text/html": [
       "<div>\n",
       "<style scoped>\n",
       "    .dataframe tbody tr th:only-of-type {\n",
       "        vertical-align: middle;\n",
       "    }\n",
       "\n",
       "    .dataframe tbody tr th {\n",
       "        vertical-align: top;\n",
       "    }\n",
       "\n",
       "    .dataframe thead th {\n",
       "        text-align: right;\n",
       "    }\n",
       "</style>\n",
       "<table border=\"1\" class=\"dataframe\">\n",
       "  <thead>\n",
       "    <tr style=\"text-align: right;\">\n",
       "      <th></th>\n",
       "      <th>Other</th>\n",
       "      <th>Alpha</th>\n",
       "      <th>Delta</th>\n",
       "      <th>BA.1</th>\n",
       "      <th>BA.2</th>\n",
       "      <th>Other_Omicron</th>\n",
       "      <th>BA.4</th>\n",
       "      <th>BA.5</th>\n",
       "      <th>XBB</th>\n",
       "    </tr>\n",
       "    <tr>\n",
       "      <th>date</th>\n",
       "      <th></th>\n",
       "      <th></th>\n",
       "      <th></th>\n",
       "      <th></th>\n",
       "      <th></th>\n",
       "      <th></th>\n",
       "      <th></th>\n",
       "      <th></th>\n",
       "      <th></th>\n",
       "    </tr>\n",
       "  </thead>\n",
       "  <tbody>\n",
       "    <tr>\n",
       "      <th>1900-01-01</th>\n",
       "      <td>0.0</td>\n",
       "      <td>0.0</td>\n",
       "      <td>1.0</td>\n",
       "      <td>0.0</td>\n",
       "      <td>0.0</td>\n",
       "      <td>0.0</td>\n",
       "      <td>0.0</td>\n",
       "      <td>0.0</td>\n",
       "      <td>0.0</td>\n",
       "    </tr>\n",
       "    <tr>\n",
       "      <th>1922-05-19</th>\n",
       "      <td>0.0</td>\n",
       "      <td>0.0</td>\n",
       "      <td>0.0</td>\n",
       "      <td>0.0</td>\n",
       "      <td>1.0</td>\n",
       "      <td>0.0</td>\n",
       "      <td>0.0</td>\n",
       "      <td>0.0</td>\n",
       "      <td>0.0</td>\n",
       "    </tr>\n",
       "    <tr>\n",
       "      <th>1931-08-27</th>\n",
       "      <td>0.0</td>\n",
       "      <td>0.0</td>\n",
       "      <td>0.0</td>\n",
       "      <td>0.0</td>\n",
       "      <td>0.0</td>\n",
       "      <td>0.0</td>\n",
       "      <td>1.0</td>\n",
       "      <td>0.0</td>\n",
       "      <td>0.0</td>\n",
       "    </tr>\n",
       "    <tr>\n",
       "      <th>2001-07-30</th>\n",
       "      <td>0.0</td>\n",
       "      <td>0.0</td>\n",
       "      <td>1.0</td>\n",
       "      <td>0.0</td>\n",
       "      <td>0.0</td>\n",
       "      <td>0.0</td>\n",
       "      <td>0.0</td>\n",
       "      <td>0.0</td>\n",
       "      <td>0.0</td>\n",
       "    </tr>\n",
       "    <tr>\n",
       "      <th>2008-08-23</th>\n",
       "      <td>0.0</td>\n",
       "      <td>0.0</td>\n",
       "      <td>0.0</td>\n",
       "      <td>0.0</td>\n",
       "      <td>0.0</td>\n",
       "      <td>0.0</td>\n",
       "      <td>0.0</td>\n",
       "      <td>0.0</td>\n",
       "      <td>1.0</td>\n",
       "    </tr>\n",
       "    <tr>\n",
       "      <th>...</th>\n",
       "      <td>...</td>\n",
       "      <td>...</td>\n",
       "      <td>...</td>\n",
       "      <td>...</td>\n",
       "      <td>...</td>\n",
       "      <td>...</td>\n",
       "      <td>...</td>\n",
       "      <td>...</td>\n",
       "      <td>...</td>\n",
       "    </tr>\n",
       "    <tr>\n",
       "      <th>2023-02-17</th>\n",
       "      <td>0.0</td>\n",
       "      <td>0.0</td>\n",
       "      <td>0.0</td>\n",
       "      <td>0.0</td>\n",
       "      <td>97.0</td>\n",
       "      <td>1.0</td>\n",
       "      <td>0.0</td>\n",
       "      <td>75.0</td>\n",
       "      <td>145.0</td>\n",
       "    </tr>\n",
       "    <tr>\n",
       "      <th>2023-02-18</th>\n",
       "      <td>0.0</td>\n",
       "      <td>0.0</td>\n",
       "      <td>0.0</td>\n",
       "      <td>0.0</td>\n",
       "      <td>49.0</td>\n",
       "      <td>0.0</td>\n",
       "      <td>0.0</td>\n",
       "      <td>13.0</td>\n",
       "      <td>24.0</td>\n",
       "    </tr>\n",
       "    <tr>\n",
       "      <th>2023-02-19</th>\n",
       "      <td>0.0</td>\n",
       "      <td>0.0</td>\n",
       "      <td>0.0</td>\n",
       "      <td>0.0</td>\n",
       "      <td>14.0</td>\n",
       "      <td>0.0</td>\n",
       "      <td>0.0</td>\n",
       "      <td>7.0</td>\n",
       "      <td>6.0</td>\n",
       "    </tr>\n",
       "    <tr>\n",
       "      <th>2023-02-20</th>\n",
       "      <td>0.0</td>\n",
       "      <td>0.0</td>\n",
       "      <td>0.0</td>\n",
       "      <td>0.0</td>\n",
       "      <td>32.0</td>\n",
       "      <td>0.0</td>\n",
       "      <td>0.0</td>\n",
       "      <td>17.0</td>\n",
       "      <td>39.0</td>\n",
       "    </tr>\n",
       "    <tr>\n",
       "      <th>2023-02-21</th>\n",
       "      <td>0.0</td>\n",
       "      <td>0.0</td>\n",
       "      <td>0.0</td>\n",
       "      <td>0.0</td>\n",
       "      <td>0.0</td>\n",
       "      <td>0.0</td>\n",
       "      <td>0.0</td>\n",
       "      <td>1.0</td>\n",
       "      <td>0.0</td>\n",
       "    </tr>\n",
       "  </tbody>\n",
       "</table>\n",
       "<p>1134 rows × 9 columns</p>\n",
       "</div>"
      ],
      "text/plain": [
       "            Other  Alpha  Delta  BA.1  BA.2  Other_Omicron  BA.4  BA.5    XBB\n",
       "date                                                                         \n",
       "1900-01-01    0.0    0.0    1.0   0.0   0.0            0.0   0.0   0.0    0.0\n",
       "1922-05-19    0.0    0.0    0.0   0.0   1.0            0.0   0.0   0.0    0.0\n",
       "1931-08-27    0.0    0.0    0.0   0.0   0.0            0.0   1.0   0.0    0.0\n",
       "2001-07-30    0.0    0.0    1.0   0.0   0.0            0.0   0.0   0.0    0.0\n",
       "2008-08-23    0.0    0.0    0.0   0.0   0.0            0.0   0.0   0.0    1.0\n",
       "...           ...    ...    ...   ...   ...            ...   ...   ...    ...\n",
       "2023-02-17    0.0    0.0    0.0   0.0  97.0            1.0   0.0  75.0  145.0\n",
       "2023-02-18    0.0    0.0    0.0   0.0  49.0            0.0   0.0  13.0   24.0\n",
       "2023-02-19    0.0    0.0    0.0   0.0  14.0            0.0   0.0   7.0    6.0\n",
       "2023-02-20    0.0    0.0    0.0   0.0  32.0            0.0   0.0  17.0   39.0\n",
       "2023-02-21    0.0    0.0    0.0   0.0   0.0            0.0   0.0   1.0    0.0\n",
       "\n",
       "[1134 rows x 9 columns]"
      ]
     },
     "execution_count": 27,
     "metadata": {},
     "output_type": "execute_result"
    }
   ],
   "source": [
    "def scorpio_to_major_voc(scorpio):\n",
    "    keys = {\"Alpha\", \"Delta\", \"BA.1\", \"BA.2\", \"BA.4\", \"BA.5\", \"BQ.1\", \"XBB\"}\n",
    "    for k in keys:\n",
    "        if k in scorpio:\n",
    "            return k\n",
    "    if \"Omicron\" in scorpio:\n",
    "        return \"Other_Omicron\"\n",
    "    return \"Other\"\n",
    "\n",
    "def merge_scorpio_columns(df):\n",
    "    out_cols = {}\n",
    "    for col, values in df.items():\n",
    "        voc = scorpio_to_major_voc(col)\n",
    "        if voc not in out_cols:\n",
    "            out_cols[voc] = values.copy()\n",
    "        else:\n",
    "            out_cols[voc] += values\n",
    "    return pd.DataFrame(out_cols)\n",
    "\n",
    "df_major_voc = merge_scorpio_columns(df_pivot)\n",
    "df_major_voc"
   ]
  },
  {
   "cell_type": "code",
   "execution_count": 28,
   "id": "d98cc937-409f-4040-8ecf-33f7370a1c8e",
   "metadata": {},
   "outputs": [],
   "source": [
    "def compute_fractions(df):\n",
    "    sum_col = sum(col for _, col in df.items())\n",
    "    #print(df.copy)\n",
    "    copy = df.copy()\n",
    "    #print(copy)\n",
    "    for k, v in df.items():\n",
    "        copy[k] = v / sum_col\n",
    "    return copy\n",
    "\n",
    "df_major_voc = compute_fractions(df_major_voc)"
   ]
  },
  {
   "cell_type": "markdown",
   "id": "1b352b74-009a-4d65-82a0-85bc7a76aba5",
   "metadata": {},
   "source": [
    "## Make the plot"
   ]
  },
  {
   "cell_type": "code",
   "execution_count": 82,
   "id": "8813c37a-cee3-4ec1-833c-b12ffc3ca307",
   "metadata": {
    "scrolled": true
   },
   "outputs": [
    {
     "data": {
      "image/png": "[encoded data removed]",
      "text/plain": [
       "<Figure size 1600x400 with 3 Axes>"
      ]
     },
     "metadata": {},
     "output_type": "display_data"
    }
   ],
   "source": [
    "start = np.array([\"2021-01\"], dtype=\"datetime64\")[0]\n",
    "end = np.array([\"2023-01\"], dtype=\"datetime64\")[0]\n",
    "\n",
    "df_voc = df_major_voc[(start <= df_major_voc.index) & (df_major_voc.index < end)]\n",
    "df_cs = df_chunk_size[(start <= df_chunk_size.date) & (df_chunk_size.date < end)]\n",
    "\n",
    "fig, ax = plt.subplots(1, figsize=(16, 4))\n",
    "\n",
    "ax3 = ax.twinx()\n",
    "ax3.stackplot(df_voc.index, \n",
    "    *[df_voc[voc] for voc in df_voc], \n",
    "    labels=[\" \".join(k.split(\"_\")) for k in df_voc], \n",
    "    alpha=0.7)\n",
    "ax2 = ax.twinx()\n",
    "ax2.set_ylabel(\"Diversity\")\n",
    "ax2.plot(df_cs[\"date\"], df_cs[\"diversity\"], color=\"pink\")\n",
    "ax.plot(df_cs[\"date\"], df_cs[\"compression_ratio\"], color=\"black\")\n",
    "ax.set_ylabel(\"Compression ratio\")\n",
    "ax3.legend(loc=\"upper left\");"
   ]
  },
  {
   "cell_type": "markdown",
   "id": "dbb53ffc-d0eb-4749-9550-ef6465c86341",
   "metadata": {},
   "source": [
    "## NOTES\n",
    "\n",
    "Note: this isn't quite what i'd been expecting. One would assume that peak compression would correspond with the lowest diversity, but this is not what we're seeing. Needs some more looking at."
   ]
  },
  {
   "cell_type": "markdown",
   "id": "b4dca91b-9020-4bad-a671-83db144f76d4",
   "metadata": {},
   "source": [
    "# Performing calculations\n",
    "\n",
    "## Compute non-ACGT values per sample\n",
    "\n",
    "We want to know how many bases per sample are Ns, gaps or ambiguous. The IUPAC alleles are encoded as ACGT = (0, 1, 2, 3) so we can find anything that's not these by excluding missing values (-1) or anything >= 4.\n",
    "\n",
    "This takes 3 minutes to compute in a single thread. Accessing the haplotype for a single sample in the middle of the matrix required 163 ms and accessing the genotypes for a given site required 163ms."
   ]
  },
  {
   "cell_type": "code",
   "execution_count": 42,
   "id": "3e34a300-52ee-4d97-8db0-ffba7b1d9cd9",
   "metadata": {},
   "outputs": [
    {
     "data": {
      "application/vnd.jupyter.widget-view+json": {
       "model_id": "9fcb02f4799445fe83311463c10882c4",
       "version_major": 2,
       "version_minor": 0
      },
      "text/plain": [
       "  0%|          | 0/397 [00:00<?, ?it/s]"
      ]
     },
     "metadata": {},
     "output_type": "display_data"
    },
    {
     "name": "stdout",
     "output_type": "stream",
     "text": [
      "CPU times: user 2min 34s, sys: 23.6 s, total: 2min 57s\n",
      "Wall time: 2min 57s\n"
     ]
    }
   ],
   "source": [
    "%%time\n",
    "gt_array = root[\"call_genotype\"]\n",
    "# Make a Zarr array with the same chunk size to make indexing by block easy\n",
    "missing_count = zarr.zeros(shape=gt_array.shape[1], chunks=gt_array.chunks[1], dtype=int)\n",
    "\n",
    "for s_chunk in tqdm(range(gt_array.cdata_shape[1])): \n",
    "    H = gt_array.blocks[:, s_chunk].squeeze(axis=2).T\n",
    "    missing_count.blocks[s_chunk] = np.sum((H < 0) | (H >= 4), axis=1)"
   ]
  },
  {
   "cell_type": "code",
   "execution_count": 43,
   "id": "69f63ea6-ecf8-46f6-a02f-2a611a0a7e01",
   "metadata": {},
   "outputs": [
    {
     "data": {
      "image/png": "[encoded data removed]",
      "text/plain": [
       "<Figure size 640x480 with 1 Axes>"
      ]
     },
     "metadata": {},
     "output_type": "display_data"
    }
   ],
   "source": [
    "plt.hist(missing_count[:]);"
   ]
  },
  {
   "cell_type": "markdown",
   "id": "fa766767-0bf3-4298-bac1-47cf7251a9b9",
   "metadata": {},
   "source": [
    "## Get a single sample's haplotype"
   ]
  },
  {
   "cell_type": "code",
   "execution_count": 44,
   "id": "33337e6c-abfb-445c-a5c0-d8dd71bfd0cc",
   "metadata": {},
   "outputs": [
    {
     "name": "stdout",
     "output_type": "stream",
     "text": [
      "CPU times: user 172 ms, sys: 16.5 ms, total: 188 ms\n",
      "Wall time: 163 ms\n"
     ]
    }
   ],
   "source": [
    "%%time\n",
    "k = gt_array.shape[1] // 2\n",
    "h = gt_array[:, k].squeeze(axis=1).T"
   ]
  },
  {
   "cell_type": "markdown",
   "id": "419254e8-5e64-422a-b9d5-4f61613844dc",
   "metadata": {},
   "source": [
    "## Get genotypes for a single site\n"
   ]
  },
  {
   "cell_type": "code",
   "execution_count": 45,
   "id": "8f650a05-ae03-49da-b14e-494be123ee73",
   "metadata": {},
   "outputs": [
    {
     "name": "stdout",
     "output_type": "stream",
     "text": [
      "CPU times: user 203 ms, sys: 7.21 ms, total: 210 ms\n",
      "Wall time: 209 ms\n"
     ]
    }
   ],
   "source": [
    "%%time\n",
    "j = gt_array.shape[0] // 2\n",
    "g = gt_array[j].squeeze(axis=1).T"
   ]
  }
 ],
 "metadata": {
  "kernelspec": {
   "display_name": "Python 3 (ipykernel)",
   "language": "python",
   "name": "python3"
  },
  "language_info": {
   "codemirror_mode": {
    "name": "ipython",
    "version": 3
   },
   "file_extension": ".py",
   "mimetype": "text/x-python",
   "name": "python",
   "nbconvert_exporter": "python",
   "pygments_lexer": "ipython3",
   "version": "3.10.12"
  }
 },
 "nbformat": 4,
 "nbformat_minor": 5
}
